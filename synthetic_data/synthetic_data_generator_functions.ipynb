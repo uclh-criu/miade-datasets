{
 "cells": [
  {
   "cell_type": "code",
   "execution_count": 1,
   "id": "2067edc6-a182-462d-9916-91dd9fb927df",
   "metadata": {},
   "outputs": [
    {
     "name": "stderr",
     "output_type": "stream",
     "text": [
      "/home/jennifer/Documents/miade/venv/lib/python3.8/site-packages/medcat/cat.py:18: TqdmExperimentalWarning: Using `tqdm.autonotebook.tqdm` in notebook mode. Use `tqdm.tqdm` instead to force console mode (e.g. in jupyter console)\n",
      "  from tqdm.autonotebook import tqdm, trange\n"
     ]
    }
   ],
   "source": [
    "import json \n",
    "import re\n",
    "import pandas as pd\n",
    "import numpy as np\n",
    "import seaborn as sns\n",
    "\n",
    "from typing import Dict, Optional, Tuple, Iterable, List\n",
    "from matplotlib import pyplot as plt\n",
    "from medcat.cat import CAT\n",
    "from medcat.cdb import CDB\n",
    "from medcat.config import Config\n",
    "from medcat.vocab import Vocab\n",
    "from medcat.meta_cat import MetaCAT\n",
    "from medcat.config_meta_cat import ConfigMetaCAT\n",
    "from medcat.preprocessing.tokenizers import TokenizerWrapperBPE, TokenizerWrapperBERT\n",
    "from tokenizers import ByteLevelBPETokenizer\n",
    "from medcat.tokenizers.meta_cat_tokenizers import TokenizerWrapperBase"
   ]
  },
  {
   "cell_type": "code",
   "execution_count": 2,
   "id": "d74c80ea-ab20-4f55-ab07-d6a53a83dca1",
   "metadata": {},
   "outputs": [],
   "source": [
    "DATA_DIR = \"../medications_and_allergies/2023-07-19/\""
   ]
  },
  {
   "cell_type": "markdown",
   "id": "9ba26ec0-dd1d-41a9-b49b-d60ae242226d",
   "metadata": {},
   "source": [
    "## Preprocess data"
   ]
  },
  {
   "cell_type": "code",
   "execution_count": 220,
   "id": "23ca42b7-a5fc-4355-9d21-7e245d6db488",
   "metadata": {},
   "outputs": [],
   "source": [
    "# Helper function that finds the start and end indices of concepts annotated in the given pattern files and strips the annotation brackets ({p...}, {m...} from the text string\n",
    "def clean_text_and_return_concept_indices(input_string, meds_allergies=False):\n",
    "    \n",
    "    if meds_allergies:\n",
    "        # Find the indices of \"{r ... }\" and \"{m ... }\" pairs\n",
    "        r_start = input_string.find(\"{r \")\n",
    "        r_end = input_string.find(\"}\", r_start)\n",
    "        m_start = input_string.find(\"{m \")\n",
    "        m_end = input_string.find(\"}\", m_start)\n",
    "        \n",
    "        # Remove \"{r ... }\" and \"{m ... }\" patterns from the input string\n",
    "        result_string = input_string.replace(\"{r \", \"\").replace(\"}\", \"\").replace(\"{m \", \"\").replace(\"}\", \"\")\n",
    "        \n",
    "        # Calculate the start and end indices for \"{m ... }\" pattern\n",
    "        m_end -= 3\n",
    "        r_end -= 3\n",
    "\n",
    "        # Adjust the start and end indices based on the removal of \"{r ... }\" pattern\n",
    "        if r_start != -1 and r_start < m_start:\n",
    "            m_start -= 4  # Account for the removal of \"{r \" and \"}\"\n",
    "            m_end -= 4\n",
    "            \n",
    "        if m_start != -1 and m_start < r_start:\n",
    "            r_start -= 4\n",
    "            r_end -= 4\n",
    "        \n",
    "        return result_string, m_start, m_end, r_start, r_end\n",
    "    else:\n",
    "        p_start = input_string.find(\"{p \")\n",
    "        p_end = input_string.find(\"}\", p_start)\n",
    "        result_string = input_string.replace(\"{p \", \"\").replace(\"}\", \"\")\n",
    "        p_end -= 3\n",
    "\n",
    "        return result_string, p_start, p_end"
   ]
  },
  {
   "cell_type": "code",
   "execution_count": 218,
   "id": "cb67e6dd-f3ec-445b-90c6-7779a95ed63f",
   "metadata": {},
   "outputs": [
    {
     "name": "stdout",
     "output_type": "stream",
     "text": [
      "Result: intolerant of potassium which gave them indigestion.\n",
      "med:  potassium 14 23\n",
      "reaction:  indigestion 40 51\n"
     ]
    }
   ],
   "source": [
    "# Example usage:\n",
    "input_string = \"intolerant of {m potassium} which gave them {r indigestion}.\"\n",
    "result, m_start, m_end, r_start, r_end = clean_text_and_return_concept_indices(input_string, meds_allergies=True)\n",
    "print(\"Result:\", result)\n",
    "# print(result[start:end])\n",
    "\n",
    "print(\"med: \",result[m_start:m_end], m_start, m_end)\n",
    "print(\"reaction: \", result[r_start:r_end], r_start, r_end)"
   ]
  },
  {
   "cell_type": "markdown",
   "id": "6b1eafe2-3083-40eb-a994-6196dd7aacdb",
   "metadata": {},
   "source": [
    "The function below processes the CSV data provided in ```miade-dataset``` into a dataframe ```[text, cui, name, start, end, <category_name>...]```\n",
    "\n",
    "This MedCAT PR https://github.com/CogStack/MedCAT/pull/329 (v1.7.1 release) added a new method called ```cat_train_supervised_raw```, which takes an input similar to this but still needs to be serialised as JSON-ish format:\n",
    "\n",
    "        {'projects':\n",
    "            [ # list of projects\n",
    "                { # project 1\n",
    "                    'name': '<some name>',\n",
    "                    # list of documents\n",
    "                    'documents': [{'name': '<some name>',  # document 1\n",
    "                                    'text': '<text of the document>',\n",
    "                                    # list of annotations\n",
    "                                    'annotations': [{'start': -1,  # annotation 1\n",
    "                                                    'end': 1,\n",
    "                                                    'cui': 'cui',\n",
    "                                                    'value': '<text value>'}, ...],\n",
    "                                    }, ...]\n",
    "                }, ...\n",
    "            ]\n",
    "        }\n",
    "        \n",
    "I might adapt this if time, but for now use MiADE_CAT train method"
   ]
  },
  {
   "cell_type": "code",
   "execution_count": 215,
   "id": "975d4190-250d-4096-a1d5-f56851e2af34",
   "metadata": {},
   "outputs": [],
   "source": [
    "def preprocess_miade_synthetic_data(data_path, lower_case=True, prefix=\"p\"):\n",
    "    \n",
    "    data = pd.read_csv(data_path)\n",
    "    \n",
    "    if prefix == \"m\":\n",
    "        # drop reactions\n",
    "        data.drop(\"r\", axis=1, inplace=True)\n",
    "    elif prefix == \"r\":\n",
    "        # drop meds\n",
    "        data.drop(\"m\", axis=1, inplace=True)\n",
    "    \n",
    "    # drop any NaNs in the concepts column\n",
    "    data = data.dropna(subset=[prefix]).reset_index(drop=True)\n",
    "        \n",
    "    if lower_case:\n",
    "        data = data.astype(str).apply(lambda x: x.str.lower())  # all lower case\n",
    "\n",
    "    # extract cui and name in separate columns\n",
    "    data[[\"cui\", \"name\"]] = data[prefix].str.extract(r\"^(\\d+)\\s*\\|\\s*(.+)$\")\n",
    "    # remove words inside brackets e.g.(disease) \n",
    "    data[\"name\"].replace(r\"\\s*\\([^)]*\\)\", \"\", regex=True, inplace=True)\n",
    "    # drop the original column\n",
    "    data.drop(prefix, axis=1, inplace=True)   \n",
    "    # some entries end with | - remove that\n",
    "    data['name'] = data['name'].str.rstrip('|')\n",
    "     \n",
    "    # extract the start and end indices of concept from text and remove the annotations e.g. {p...}\n",
    "    start = []\n",
    "    end = []\n",
    "    text = []\n",
    "    for i in range(len(data)):\n",
    "        if prefix == \"m\":\n",
    "            result, m_start, m_end, r_start, r_end = clean_text_and_return_concept_indices(data.text.values[i], meds_allergies=True)\n",
    "            start.append(m_start)\n",
    "            end.append(m_end)\n",
    "        elif prefix == \"r\":          \n",
    "            result, m_start, m_end, r_start, r_end = clean_text_and_return_concept_indices(data.text.values[i], meds_allergies=True)\n",
    "            start.append(r_start)\n",
    "            end.append(r_end)\n",
    "        elif prefix == \"p\":\n",
    "            result, start, end = clean_text_and_return_concept_indices(data.text.values[i])\n",
    "            start.append(start)\n",
    "            end.append(end)\n",
    "        \n",
    "        text.append(result)  \n",
    "    \n",
    "    data[\"start\"] = start\n",
    "    data[\"end\"] = end\n",
    "    data[\"text\"] = text\n",
    "\n",
    "    if prefix == \"p\":\n",
    "        # convert labels\n",
    "        data.replace(\"no laterality\", \"none\", inplace=True)\n",
    "        data.replace(\"positive\", \"present\", inplace=True)\n",
    "        # tidy up columns\n",
    "        data.rename(columns={\"p_meta_relevance\": \"relevance\", \"p_meta_confirmed\": \"presence\", \"p_meta_laterality\": \"laterality (generic)\"}, inplace=True)\n",
    "        data = data[[\"text\", \"cui\", \"name\", \"start\", \"end\", \"relevance\", \"presence\", \"laterality (generic)\"]]\n",
    "    elif prefix == \"m\":\n",
    "        data.rename(columns={\"m_meta_category\": \"substance_category\", \"m_meta_allergytype\": \"allergy_type\", \"m_meta_severity\": \"severity\"}, inplace=True)\n",
    "        data = data.fillna(\"unspecified\")\n",
    "        data = data[[\"text\", \"cui\", \"name\", \"start\", \"end\", \"substance_category\", \"allergy_type\", \"severity\"]]\n",
    "    elif prefix == \"r\":\n",
    "        data.replace(\"not a reaction\", \"none\", inplace=True)\n",
    "        data.rename(columns={\"r_meta_reactionpos\": \"reaction_pos\"}, inplace=True)\n",
    "        data = data[[\"text\", \"cui\", \"name\", \"start\", \"end\", \"reaction_pos\"]]\n",
    "        \n",
    "    \n",
    "    return data"
   ]
  },
  {
   "cell_type": "code",
   "execution_count": 205,
   "id": "a8e2b99b-db49-4f31-a07c-13ce3d087991",
   "metadata": {},
   "outputs": [],
   "source": [
    "df = preprocess_miade_synthetic_data(DATA_DIR + \"/patterns_medallerg.csv\", prefix=\"r\")"
   ]
  },
  {
   "cell_type": "code",
   "execution_count": 206,
   "id": "a23d4a7e-4014-4cc8-8e02-f3e65ad9b4fa",
   "metadata": {},
   "outputs": [
    {
     "data": {
      "text/html": [
       "<div>\n",
       "<style scoped>\n",
       "    .dataframe tbody tr th:only-of-type {\n",
       "        vertical-align: middle;\n",
       "    }\n",
       "\n",
       "    .dataframe tbody tr th {\n",
       "        vertical-align: top;\n",
       "    }\n",
       "\n",
       "    .dataframe thead th {\n",
       "        text-align: right;\n",
       "    }\n",
       "</style>\n",
       "<table border=\"1\" class=\"dataframe\">\n",
       "  <thead>\n",
       "    <tr style=\"text-align: right;\">\n",
       "      <th></th>\n",
       "      <th>text</th>\n",
       "      <th>cui</th>\n",
       "      <th>name</th>\n",
       "      <th>start</th>\n",
       "      <th>end</th>\n",
       "      <th>reaction_pos</th>\n",
       "    </tr>\n",
       "  </thead>\n",
       "  <tbody>\n",
       "    <tr>\n",
       "      <th>0</th>\n",
       "      <td>feeling breathless today.</td>\n",
       "      <td>267036007</td>\n",
       "      <td>dyspnea</td>\n",
       "      <td>8</td>\n",
       "      <td>18</td>\n",
       "      <td>none</td>\n",
       "    </tr>\n",
       "    <tr>\n",
       "      <th>1</th>\n",
       "      <td>allergies: severe severe depression with co-te...</td>\n",
       "      <td>310497006</td>\n",
       "      <td>severe depression</td>\n",
       "      <td>18</td>\n",
       "      <td>35</td>\n",
       "      <td>before</td>\n",
       "    </tr>\n",
       "    <tr>\n",
       "      <th>2</th>\n",
       "      <td>allergies: severe liver palms with cannabidiol.</td>\n",
       "      <td>248413004</td>\n",
       "      <td>liver palms</td>\n",
       "      <td>18</td>\n",
       "      <td>29</td>\n",
       "      <td>before</td>\n",
       "    </tr>\n",
       "    <tr>\n",
       "      <th>3</th>\n",
       "      <td>allergies: severe oral dyspraxia with dapoxetine.</td>\n",
       "      <td>361275004</td>\n",
       "      <td>oral dyspraxia</td>\n",
       "      <td>18</td>\n",
       "      <td>32</td>\n",
       "      <td>before</td>\n",
       "    </tr>\n",
       "    <tr>\n",
       "      <th>4</th>\n",
       "      <td>allergies: severe postcholecystectomy diarrhea...</td>\n",
       "      <td>53156005</td>\n",
       "      <td>postcholecystectomy diarrhea</td>\n",
       "      <td>18</td>\n",
       "      <td>46</td>\n",
       "      <td>before</td>\n",
       "    </tr>\n",
       "    <tr>\n",
       "      <th>...</th>\n",
       "      <td>...</td>\n",
       "      <td>...</td>\n",
       "      <td>...</td>\n",
       "      <td>...</td>\n",
       "      <td>...</td>\n",
       "      <td>...</td>\n",
       "    </tr>\n",
       "    <tr>\n",
       "      <th>356</th>\n",
       "      <td>experienced anaphylaxis with romosozumab</td>\n",
       "      <td>39579001</td>\n",
       "      <td>anaphylaxis</td>\n",
       "      <td>12</td>\n",
       "      <td>23</td>\n",
       "      <td>before</td>\n",
       "    </tr>\n",
       "    <tr>\n",
       "      <th>357</th>\n",
       "      <td>had anaphylaxis due to multivitamin capsules</td>\n",
       "      <td>39579001</td>\n",
       "      <td>anaphylaxis</td>\n",
       "      <td>4</td>\n",
       "      <td>15</td>\n",
       "      <td>before</td>\n",
       "    </tr>\n",
       "    <tr>\n",
       "      <th>358</th>\n",
       "      <td>had anaphylaxis due to homeopathic hamamelis</td>\n",
       "      <td>39579001</td>\n",
       "      <td>anaphylaxis</td>\n",
       "      <td>4</td>\n",
       "      <td>15</td>\n",
       "      <td>before</td>\n",
       "    </tr>\n",
       "    <tr>\n",
       "      <th>359</th>\n",
       "      <td>had anaphylaxis with larvae sterile</td>\n",
       "      <td>39579001</td>\n",
       "      <td>anaphylaxis</td>\n",
       "      <td>4</td>\n",
       "      <td>15</td>\n",
       "      <td>before</td>\n",
       "    </tr>\n",
       "    <tr>\n",
       "      <th>360</th>\n",
       "      <td>experienced anaphylaxis due to ipecacuanha tin...</td>\n",
       "      <td>39579001</td>\n",
       "      <td>anaphylaxis</td>\n",
       "      <td>12</td>\n",
       "      <td>23</td>\n",
       "      <td>before</td>\n",
       "    </tr>\n",
       "  </tbody>\n",
       "</table>\n",
       "<p>361 rows × 6 columns</p>\n",
       "</div>"
      ],
      "text/plain": [
       "                                                  text        cui  \\\n",
       "0                            feeling breathless today.  267036007   \n",
       "1    allergies: severe severe depression with co-te...  310497006   \n",
       "2      allergies: severe liver palms with cannabidiol.  248413004   \n",
       "3    allergies: severe oral dyspraxia with dapoxetine.  361275004   \n",
       "4    allergies: severe postcholecystectomy diarrhea...   53156005   \n",
       "..                                                 ...        ...   \n",
       "356           experienced anaphylaxis with romosozumab   39579001   \n",
       "357       had anaphylaxis due to multivitamin capsules   39579001   \n",
       "358       had anaphylaxis due to homeopathic hamamelis   39579001   \n",
       "359                had anaphylaxis with larvae sterile   39579001   \n",
       "360  experienced anaphylaxis due to ipecacuanha tin...   39579001   \n",
       "\n",
       "                             name  start  end reaction_pos  \n",
       "0                         dyspnea      8   18         none  \n",
       "1               severe depression     18   35       before  \n",
       "2                     liver palms     18   29       before  \n",
       "3                  oral dyspraxia     18   32       before  \n",
       "4    postcholecystectomy diarrhea     18   46       before  \n",
       "..                            ...    ...  ...          ...  \n",
       "356                   anaphylaxis     12   23       before  \n",
       "357                   anaphylaxis      4   15       before  \n",
       "358                   anaphylaxis      4   15       before  \n",
       "359                   anaphylaxis      4   15       before  \n",
       "360                   anaphylaxis     12   23       before  \n",
       "\n",
       "[361 rows x 6 columns]"
      ]
     },
     "execution_count": 206,
     "metadata": {},
     "output_type": "execute_result"
    }
   ],
   "source": [
    "df"
   ]
  },
  {
   "cell_type": "code",
   "execution_count": 207,
   "id": "bc8aaa99-3524-4ebe-bb2f-f00f9a1de0f8",
   "metadata": {},
   "outputs": [
    {
     "data": {
      "text/plain": [
       "0      267036007\n",
       "1      310497006\n",
       "2      248413004\n",
       "3      361275004\n",
       "4       53156005\n",
       "         ...    \n",
       "356     39579001\n",
       "357     39579001\n",
       "358     39579001\n",
       "359     39579001\n",
       "360     39579001\n",
       "Name: cui, Length: 361, dtype: object"
      ]
     },
     "execution_count": 207,
     "metadata": {},
     "output_type": "execute_result"
    }
   ],
   "source": [
    "df.cui"
   ]
  },
  {
   "cell_type": "code",
   "execution_count": 192,
   "id": "81227e30-b201-4d12-9417-9557f2338fe3",
   "metadata": {},
   "outputs": [
    {
     "data": {
      "text/plain": [
       "adverse reaction    482\n",
       "irrelevant           60\n",
       "taking               21\n",
       "Name: substance_category, dtype: int64"
      ]
     },
     "execution_count": 192,
     "metadata": {},
     "output_type": "execute_result"
    }
   ],
   "source": [
    "df.substance_category.value_counts()"
   ]
  },
  {
   "cell_type": "code",
   "execution_count": 193,
   "id": "a70b1633-caed-4f5f-8110-c172358c32f3",
   "metadata": {},
   "outputs": [
    {
     "data": {
      "text/plain": [
       "allergy        222\n",
       "intolerance    200\n",
       "unspecified    141\n",
       "Name: allergy_type, dtype: int64"
      ]
     },
     "execution_count": 193,
     "metadata": {},
     "output_type": "execute_result"
    }
   ],
   "source": [
    "df.allergy_type.value_counts()"
   ]
  },
  {
   "cell_type": "code",
   "execution_count": 194,
   "id": "9443e6ce-31f9-4e29-9676-99f967d71500",
   "metadata": {},
   "outputs": [
    {
     "data": {
      "text/plain": [
       "unspecified    282\n",
       "severe         161\n",
       "mild            60\n",
       "moderate        60\n",
       "Name: severity, dtype: int64"
      ]
     },
     "execution_count": 194,
     "metadata": {},
     "output_type": "execute_result"
    }
   ],
   "source": [
    "df.severity.value_counts()"
   ]
  },
  {
   "cell_type": "code",
   "execution_count": 208,
   "id": "07c877c0-f95c-40b1-85ca-ef439c1fd45e",
   "metadata": {},
   "outputs": [
    {
     "data": {
      "text/plain": [
       "after     180\n",
       "before    140\n",
       "none       41\n",
       "Name: reaction_pos, dtype: int64"
      ]
     },
     "execution_count": 208,
     "metadata": {},
     "output_type": "execute_result"
    }
   ],
   "source": [
    "df.reaction_pos.value_counts()"
   ]
  },
  {
   "cell_type": "code",
   "execution_count": 210,
   "id": "815056a8-ff78-4eb7-bba5-fde73e626bf3",
   "metadata": {},
   "outputs": [
    {
     "data": {
      "text/plain": [
       "49.45706371191136"
      ]
     },
     "execution_count": 210,
     "metadata": {},
     "output_type": "execute_result"
    }
   ],
   "source": [
    "df['text'].str.len().mean()"
   ]
  },
  {
   "cell_type": "code",
   "execution_count": 211,
   "id": "bc599d0e-bba3-4062-bb41-1c452eed9b8c",
   "metadata": {},
   "outputs": [
    {
     "name": "stdout",
     "output_type": "stream",
     "text": [
      "breathless\n",
      "severe depression\n",
      "liver palms\n",
      "oral dyspraxia\n",
      "postcholecystectomy diarrhea\n",
      "ménière's disease\n",
      "anxiety disorder\n",
      "onychogryposis\n",
      "depressive disorder\n",
      "dyspnea\n"
     ]
    }
   ],
   "source": [
    "# sanity checks\n",
    "for i in range(10):\n",
    "    print(df.text.values[i][df.start.values[i]:df.end.values[i]])"
   ]
  },
  {
   "cell_type": "code",
   "execution_count": 213,
   "id": "e013b2f4-8b00-477c-8529-c6634b8ee51b",
   "metadata": {
    "tags": []
   },
   "outputs": [
    {
     "name": "stdout",
     "output_type": "stream",
     "text": [
      "['feeling breathless today.', 8, 18, 'none']\n",
      "['allergies: severe severe depression with co-tenidone.', 18, 35, 'before']\n",
      "['allergies: severe liver palms with cannabidiol.', 18, 29, 'before']\n",
      "['allergies: severe oral dyspraxia with dapoxetine.', 18, 32, 'before']\n",
      "['allergies: severe postcholecystectomy diarrhea with pneumococcal vaccine.', 18, 46, 'before']\n",
      "[\"allergies: severe ménière's disease with multivitamin capsules.\", 18, 35, 'before']\n",
      "['allergies: severe anxiety disorder with benzathine benzylpenicillin.', 18, 34, 'before']\n",
      "['allergies: severe onychogryposis with crizanlizumab.', 18, 32, 'before']\n",
      "['allergies: severe depressive disorder with sodium valproate.', 18, 37, 'before']\n",
      "['allergies: severe dyspnea with glycerol phenylbutyrate.', 18, 25, 'before']\n"
     ]
    }
   ],
   "source": [
    "for i in range(10):\n",
    "    print(df[[\"text\", \"start\", \"end\", \"reaction_pos\"]].iloc[i].tolist())"
   ]
  },
  {
   "cell_type": "code",
   "execution_count": 214,
   "id": "a9b26c91-bcce-4bf0-ab59-a29f9aa8cc34",
   "metadata": {},
   "outputs": [],
   "source": [
    "# for meds, the training data is generated and we don't have to proceed to the next step as all the data is in one file\n",
    "df.to_csv(\"./reactions_synthetic_train_data.csv\", index=False)"
   ]
  },
  {
   "cell_type": "markdown",
   "id": "4f6aa29c-d81f-47ab-aa49-d829fa87dfe3",
   "metadata": {},
   "source": [
    "## Generate training data\n",
    "\n",
    "For problems training data generation: samples a number of training data and concatenates it into one training data df ready for input into the next step (this is not very efficient! please feel free to make a nicer script). This is because unlike meds/allergies,\n",
    "1) the problems synthetic data examples are in separate files and \n",
    "2) there is a very large amount of training data in total."
   ]
  },
  {
   "cell_type": "code",
   "execution_count": 40,
   "id": "946fc7de-735b-40cc-b112-cefdf028ac02",
   "metadata": {},
   "outputs": [],
   "source": [
    "config_dict = {\n",
    "    \"historic_path\": DATA_DIR + \"/metacat_problems_historic.csv\",\n",
    "    \"suspected_path\": DATA_DIR + \"/metacat_problems_suspected.csv\",\n",
    "    \"negated_path\": DATA_DIR + \"/metacat_problems_negated.csv\",\n",
    "    \"irrelevant_path\": DATA_DIR + \"/metacat_problems_irrelevant.csv\",\n",
    "    \"present_path\": DATA_DIR + \"/metacat_problems_positive.csv\",\n",
    "    \"confirmed_path\": DATA_DIR + \"/metacat_problems_positive.csv\",\n",
    "    \"confirmed_num\": 500,\n",
    "    \"historic_num\": 5000,\n",
    "    \"irrelevant_num\": 5000,\n",
    "    \"present_num\": 500,\n",
    "    \"suspected_num\": 5000,\n",
    "    \"negated_num\": 5000}"
   ]
  },
  {
   "cell_type": "code",
   "execution_count": 41,
   "id": "e2642caf-d21f-429b-82d8-d3371045b819",
   "metadata": {},
   "outputs": [],
   "source": [
    "def create_problems_training_data(config_dict):\n",
    "    historic_df = preprocess_miade_synthetic_data(config_dict.get(\"historic_path\"))\n",
    "    suspected_df =  preprocess_miade_synthetic_data(config_dict.get(\"suspected_path\"))\n",
    "    irrelevant_df=  preprocess_miade_synthetic_data(config_dict.get(\"irrelevant_path\"))\n",
    "    negated_df =  preprocess_miade_synthetic_data(config_dict.get(\"negated_path\"))\n",
    "    present_df =  preprocess_miade_synthetic_data(config_dict.get(\"present_path\"))\n",
    "    confirmed_df =  preprocess_miade_synthetic_data(config_dict.get(\"confirmed_path\"))\n",
    "    \n",
    "    historic_train = []\n",
    "    suspected_train = []\n",
    "    irrelevant_train = []\n",
    "    negated_train = []\n",
    "    present_train = []\n",
    "    confirmed_train = []\n",
    "    \n",
    "    if historic_df is not None:\n",
    "        historic_train = historic_df[:config_dict[\"historic_num\"]]\n",
    "    if suspected_df is not None:\n",
    "        suspected_train = suspected_df[:config_dict[\"suspected_num\"]]\n",
    "    if irrelevant_df is not None:\n",
    "        irrelevant_train = irrelevant_df[:config_dict[\"irrelevant_num\"]]\n",
    "    if negated_df is not None:\n",
    "        negated_train = negated_df[:config_dict[\"negated_num\"]]\n",
    "    if present_df is not None:\n",
    "        present_train = present_df[:config_dict[\"present_num\"]]\n",
    "    if confirmed_df is not None:\n",
    "        confirmed_train = confirmed_df[-config_dict[\"confirmed_num\"]:]\n",
    "    \n",
    "    train_data = pd.concat([historic_train, suspected_train, irrelevant_train, negated_train, present_train, confirmed_train], ignore_index=True)\n",
    "    print(len(train_data))\n",
    "    \n",
    "    return train_data"
   ]
  },
  {
   "cell_type": "code",
   "execution_count": 42,
   "id": "4f22a1db-b92d-46ad-85ae-71ee5533956e",
   "metadata": {},
   "outputs": [
    {
     "name": "stdout",
     "output_type": "stream",
     "text": [
      "20000\n"
     ]
    }
   ],
   "source": [
    "train_df = create_problems_training_data(config_dict)"
   ]
  },
  {
   "cell_type": "code",
   "execution_count": 43,
   "id": "750143ce-492a-4b8a-a9e5-83ce62e40bd1",
   "metadata": {},
   "outputs": [
    {
     "data": {
      "text/html": [
       "<div>\n",
       "<style scoped>\n",
       "    .dataframe tbody tr th:only-of-type {\n",
       "        vertical-align: middle;\n",
       "    }\n",
       "\n",
       "    .dataframe tbody tr th {\n",
       "        vertical-align: top;\n",
       "    }\n",
       "\n",
       "    .dataframe thead th {\n",
       "        text-align: right;\n",
       "    }\n",
       "</style>\n",
       "<table border=\"1\" class=\"dataframe\">\n",
       "  <thead>\n",
       "    <tr style=\"text-align: right;\">\n",
       "      <th></th>\n",
       "      <th>text</th>\n",
       "      <th>cui</th>\n",
       "      <th>name</th>\n",
       "      <th>start</th>\n",
       "      <th>end</th>\n",
       "      <th>relevance</th>\n",
       "      <th>presence</th>\n",
       "      <th>laterality (generic)</th>\n",
       "    </tr>\n",
       "  </thead>\n",
       "  <tbody>\n",
       "    <tr>\n",
       "      <th>0</th>\n",
       "      <td>decidual endometritis from age 12</td>\n",
       "      <td>75585005</td>\n",
       "      <td>decidual endometritis</td>\n",
       "      <td>0</td>\n",
       "      <td>21</td>\n",
       "      <td>historic</td>\n",
       "      <td>confirmed</td>\n",
       "      <td>none</td>\n",
       "    </tr>\n",
       "    <tr>\n",
       "      <th>1</th>\n",
       "      <td>bilateral metatarsus adductus prev</td>\n",
       "      <td>15667441000119108</td>\n",
       "      <td>bilateral metatarsus adductus</td>\n",
       "      <td>0</td>\n",
       "      <td>29</td>\n",
       "      <td>historic</td>\n",
       "      <td>confirmed</td>\n",
       "      <td>bilateral</td>\n",
       "    </tr>\n",
       "    <tr>\n",
       "      <th>2</th>\n",
       "      <td>crohn's disease of pylorus a few years previously</td>\n",
       "      <td>61424003</td>\n",
       "      <td>crohn's disease of pylorus</td>\n",
       "      <td>0</td>\n",
       "      <td>26</td>\n",
       "      <td>historic</td>\n",
       "      <td>confirmed</td>\n",
       "      <td>none</td>\n",
       "    </tr>\n",
       "    <tr>\n",
       "      <th>3</th>\n",
       "      <td>no prev hist of congenital facial nerve palsy</td>\n",
       "      <td>230542008</td>\n",
       "      <td>congenital facial nerve palsy</td>\n",
       "      <td>16</td>\n",
       "      <td>45</td>\n",
       "      <td>historic</td>\n",
       "      <td>negated</td>\n",
       "      <td>none</td>\n",
       "    </tr>\n",
       "    <tr>\n",
       "      <th>4</th>\n",
       "      <td>no prev hx accidental fusidic acid overdose</td>\n",
       "      <td>296643001</td>\n",
       "      <td>accidental fusidic acid overdose</td>\n",
       "      <td>11</td>\n",
       "      <td>43</td>\n",
       "      <td>historic</td>\n",
       "      <td>negated</td>\n",
       "      <td>none</td>\n",
       "    </tr>\n",
       "    <tr>\n",
       "      <th>5</th>\n",
       "      <td>benign neoplasm of rib last 8 months</td>\n",
       "      <td>92326008</td>\n",
       "      <td>benign neoplasm of rib</td>\n",
       "      <td>0</td>\n",
       "      <td>22</td>\n",
       "      <td>historic</td>\n",
       "      <td>confirmed</td>\n",
       "      <td>none</td>\n",
       "    </tr>\n",
       "    <tr>\n",
       "      <th>6</th>\n",
       "      <td>chronic lymphangitis upto age 63</td>\n",
       "      <td>78973009</td>\n",
       "      <td>chronic lymphangitis</td>\n",
       "      <td>0</td>\n",
       "      <td>20</td>\n",
       "      <td>historic</td>\n",
       "      <td>confirmed</td>\n",
       "      <td>none</td>\n",
       "    </tr>\n",
       "    <tr>\n",
       "      <th>7</th>\n",
       "      <td>contact granuloma of larynx few yrs previously</td>\n",
       "      <td>12181000119103</td>\n",
       "      <td>contact granuloma of larynx</td>\n",
       "      <td>0</td>\n",
       "      <td>27</td>\n",
       "      <td>historic</td>\n",
       "      <td>confirmed</td>\n",
       "      <td>none</td>\n",
       "    </tr>\n",
       "    <tr>\n",
       "      <th>8</th>\n",
       "      <td>reflux gastritis last 1 mth</td>\n",
       "      <td>57433008</td>\n",
       "      <td>reflux gastritis</td>\n",
       "      <td>0</td>\n",
       "      <td>16</td>\n",
       "      <td>historic</td>\n",
       "      <td>confirmed</td>\n",
       "      <td>none</td>\n",
       "    </tr>\n",
       "    <tr>\n",
       "      <th>9</th>\n",
       "      <td>prev hist inflammation of spermatic cord</td>\n",
       "      <td>737173008</td>\n",
       "      <td>inflammation of spermatic cord</td>\n",
       "      <td>10</td>\n",
       "      <td>40</td>\n",
       "      <td>historic</td>\n",
       "      <td>confirmed</td>\n",
       "      <td>none</td>\n",
       "    </tr>\n",
       "  </tbody>\n",
       "</table>\n",
       "</div>"
      ],
      "text/plain": [
       "                                                text                cui  \\\n",
       "0                  decidual endometritis from age 12           75585005   \n",
       "1                 bilateral metatarsus adductus prev  15667441000119108   \n",
       "2  crohn's disease of pylorus a few years previously           61424003   \n",
       "3      no prev hist of congenital facial nerve palsy          230542008   \n",
       "4        no prev hx accidental fusidic acid overdose          296643001   \n",
       "5               benign neoplasm of rib last 8 months           92326008   \n",
       "6                   chronic lymphangitis upto age 63           78973009   \n",
       "7     contact granuloma of larynx few yrs previously     12181000119103   \n",
       "8                        reflux gastritis last 1 mth           57433008   \n",
       "9           prev hist inflammation of spermatic cord          737173008   \n",
       "\n",
       "                               name  start  end relevance   presence  \\\n",
       "0             decidual endometritis      0   21  historic  confirmed   \n",
       "1     bilateral metatarsus adductus      0   29  historic  confirmed   \n",
       "2        crohn's disease of pylorus      0   26  historic  confirmed   \n",
       "3     congenital facial nerve palsy     16   45  historic    negated   \n",
       "4  accidental fusidic acid overdose     11   43  historic    negated   \n",
       "5            benign neoplasm of rib      0   22  historic  confirmed   \n",
       "6              chronic lymphangitis      0   20  historic  confirmed   \n",
       "7       contact granuloma of larynx      0   27  historic  confirmed   \n",
       "8                  reflux gastritis      0   16  historic  confirmed   \n",
       "9    inflammation of spermatic cord     10   40  historic  confirmed   \n",
       "\n",
       "  laterality (generic)  \n",
       "0                 none  \n",
       "1            bilateral  \n",
       "2                 none  \n",
       "3                 none  \n",
       "4                 none  \n",
       "5                 none  \n",
       "6                 none  \n",
       "7                 none  \n",
       "8                 none  \n",
       "9                 none  "
      ]
     },
     "execution_count": 43,
     "metadata": {},
     "output_type": "execute_result"
    }
   ],
   "source": [
    "train_df.head(10)"
   ]
  },
  {
   "cell_type": "code",
   "execution_count": 44,
   "id": "798b40c9-e121-426f-87ba-f0e55b10a45b",
   "metadata": {
    "tags": []
   },
   "outputs": [
    {
     "data": {
      "text/plain": [
       "confirmed    10079\n",
       "suspected     5000\n",
       "negated       4921\n",
       "Name: presence, dtype: int64"
      ]
     },
     "execution_count": 44,
     "metadata": {},
     "output_type": "execute_result"
    }
   ],
   "source": [
    "train_df.presence.value_counts()"
   ]
  },
  {
   "cell_type": "code",
   "execution_count": 45,
   "id": "8c02648f-053d-4e92-9c21-3ee3f32363c0",
   "metadata": {
    "tags": []
   },
   "outputs": [
    {
     "data": {
      "text/plain": [
       "present       10000\n",
       "historic       5000\n",
       "irrelevant     5000\n",
       "Name: relevance, dtype: int64"
      ]
     },
     "execution_count": 45,
     "metadata": {},
     "output_type": "execute_result"
    }
   ],
   "source": [
    "train_df.relevance.value_counts()"
   ]
  },
  {
   "cell_type": "code",
   "execution_count": 46,
   "id": "21babef4-2a2b-4d0d-a553-4341d40a27f7",
   "metadata": {},
   "outputs": [],
   "source": [
    "# save\n",
    "train_df.to_csv(\"./data/problems_synthetic_train_data.csv\", index=False)"
   ]
  },
  {
   "cell_type": "markdown",
   "id": "27e4f2ce-8c72-40c6-84c3-55a314ee4afe",
   "metadata": {},
   "source": [
    "## Tokenize and convert to training data input\n",
    "\n",
    "Modified from the utility function prepare_from_json() from MedCAT:\n",
    "https://github.com/CogStack/MedCAT/blob/3e979951b0bf817b56445d90c6e7fcab97ef0390/medcat/utils/meta_cat/data_utils.py#L5\n",
    "\n",
    "Instead of using MedCATTrainer JSON, this function takes the preprocessed MiADE synthetic data CSV (output from ```preprocess_miade_synthetic_data()```) and converts it to output data that is ready for input into Pytorch model training, which is wrapped inside the MetaCAT ```train()``` function.\n",
    "\n",
    "This is not necessary to run to generate the training data itself - just for validation"
   ]
  },
  {
   "cell_type": "code",
   "execution_count": 12,
   "id": "a8f1e732-59ab-4175-8d21-c0da851ecb1b",
   "metadata": {},
   "outputs": [],
   "source": [
    "def prepare_from_miade_csv(\n",
    "    data: pd.DataFrame,\n",
    "    category_name: str,\n",
    "    cntx_left: int,\n",
    "    cntx_right: int,\n",
    "    tokenizer: TokenizerWrapperBase,\n",
    "    replace_center: str = None,\n",
    "    lowercase: bool = True,\n",
    "    ) -> Dict:\n",
    "\n",
    "    out_data: Dict = {}\n",
    "    \n",
    "    for i in range(len(data)):\n",
    "        text = data.text.values[i]\n",
    "            \n",
    "        if len(text) > 0:\n",
    "            doc_text = tokenizer(text)\n",
    "        \n",
    "            start = data.start.values[i]\n",
    "            end = data.end.values[i]\n",
    "\n",
    "            # Get the index of the center token\n",
    "            ind = 0\n",
    "            for ind, pair in enumerate(doc_text['offset_mapping']):\n",
    "                if start >= pair[0] and start < pair[1]:\n",
    "                    break\n",
    "\n",
    "            _start = max(0, ind - cntx_left)\n",
    "            _end = min(len(doc_text['input_ids']), ind + 1 + cntx_right)\n",
    "            tkns = doc_text['input_ids'][_start:_end]\n",
    "            cpos = cntx_left + min(0, ind-cntx_left)\n",
    "            \n",
    "            if replace_center is not None:\n",
    "                if lowercase:\n",
    "                    replace_center = replace_center.lower()\n",
    "                for p_ind, pair in enumerate(doc_text['offset_mapping']):\n",
    "                    if start >= pair[0] and start < pair[1]:\n",
    "                        s_ind = p_ind\n",
    "                    if end > pair[0] and end <= pair[1]:\n",
    "                        e_ind = p_ind\n",
    "\n",
    "                ln = e_ind - s_ind\n",
    "                tkns = tkns[:cpos] + tokenizer(replace_center)['input_ids'] + tkns[cpos+ln+1:]\n",
    "            \n",
    "            value = data[category_name].values[i]\n",
    "            sample = [tkns, cpos, value]\n",
    "\n",
    "            if category_name in out_data:\n",
    "                out_data[category_name].append(sample)\n",
    "            else:\n",
    "                out_data[category_name] = [sample]\n",
    "    \n",
    "    return out_data"
   ]
  },
  {
   "cell_type": "code",
   "execution_count": 13,
   "id": "87ac1101-8d02-441b-b439-da1c35b75008",
   "metadata": {},
   "outputs": [],
   "source": [
    "# example tokenizer\n",
    "mc = MetaCAT.load(\"./examples/Status\")"
   ]
  },
  {
   "cell_type": "code",
   "execution_count": 14,
   "id": "e53c764a-f6e0-4c94-9a4c-be3faad17cea",
   "metadata": {
    "tags": []
   },
   "outputs": [
    {
     "data": {
      "text/plain": [
       "{'presence': [[[3564, 2430, 313, 8506], 3, 'confirmed'],\n",
       "  [[9732, 2430, 8506], 2, 'confirmed'],\n",
       "  [[8506, 360, 3073, 2541], 0, 'confirmed'],\n",
       "  [[19, 15267, 8506], 2, 'confirmed'],\n",
       "  [[8506, 1132, 2890, 8453, 785], 0, 'confirmed'],\n",
       "  [[8506, 645, 476, 16841, 82], 0, 'confirmed'],\n",
       "  [[1547, 1051, 313, 8506], 3, 'negated'],\n",
       "  [[8506, 645, 464, 16841], 0, 'confirmed'],\n",
       "  [[8506, 1922, 14636], 0, 'confirmed'],\n",
       "  [[11694, 8506], 1, 'confirmed'],\n",
       "  [[11405, 429, 8506], 2, 'suspected'],\n",
       "  [[13956, 8506], 1, 'suspected'],\n",
       "  [[4346, 8506], 1, 'suspected'],\n",
       "  [[20327, 8506], 1, 'suspected'],\n",
       "  [[11405, 884, 8506], 2, 'suspected'],\n",
       "  [[9181, 3998, 8506], 2, 'suspected'],\n",
       "  [[25626, 8506], 1, 'suspected'],\n",
       "  [[8506, 7074], 0, 'suspected'],\n",
       "  [[4346, 8506], 1, 'suspected'],\n",
       "  [[474, 727, 8506], 2, 'suspected'],\n",
       "  [[8260, 313, 8506], 2, 'confirmed'],\n",
       "  [[3028, 6366, 8506], 2, 'confirmed'],\n",
       "  [[12351, 82, 796, 8506], 3, 'confirmed'],\n",
       "  [[3028, 6366, 796, 8506], 3, 'confirmed'],\n",
       "  [[16756, 8107, 8506], 2, 'confirmed'],\n",
       "  [[7465, 5000, 6144, 8506], 3, 'confirmed'],\n",
       "  [[7465, 5000, 8202, 2042, 531, 8506], 5, 'confirmed'],\n",
       "  [[12411, 8506], 1, 'confirmed'],\n",
       "  [[3028, 11292, 8506], 2, 'confirmed'],\n",
       "  [[3028, 6366, 8202, 2042, 531, 8506], 5, 'confirmed'],\n",
       "  [[8506, 1310], 0, 'negated'],\n",
       "  [[8506, 2771], 0, 'negated'],\n",
       "  [[5434, 8506], 1, 'negated'],\n",
       "  [[8506, 2771], 0, 'negated'],\n",
       "  [[17808, 8506], 1, 'negated'],\n",
       "  [[8506, 1700], 0, 'negated'],\n",
       "  [[7920, 8506], 1, 'negated'],\n",
       "  [[8506], 0, 'negated'],\n",
       "  [[8506, 3418], 0, 'negated'],\n",
       "  [[8506, 1064], 0, 'negated']]}"
      ]
     },
     "execution_count": 14,
     "metadata": {},
     "output_type": "execute_result"
    }
   ],
   "source": [
    "prepare_from_miade_csv(train_df, category_name=\"presence\", cntx_left=5, cntx_right=8, tokenizer=mc.tokenizer, replace_center=\"disease\")"
   ]
  },
  {
   "cell_type": "code",
   "execution_count": 36,
   "id": "2d75dbc6-114c-46a0-8c18-eb7308066739",
   "metadata": {
    "tags": []
   },
   "outputs": [],
   "source": [
    "test = pd.concat([train_df[train_df[\"presence\"] == \"negated\"][:10], train_df[train_df[\"presence\"] == \"suspected\"][:10]], ignore_index=True)"
   ]
  },
  {
   "cell_type": "code",
   "execution_count": 37,
   "id": "0585b0d9-d355-4f50-9beb-a98f2398377a",
   "metadata": {
    "tags": []
   },
   "outputs": [
    {
     "data": {
      "text/plain": [
       "{'presence': [[[1547, 1051, 313, 8506], 3, 'negated'],\n",
       "  [[8506, 1310], 0, 'negated'],\n",
       "  [[8506, 2771], 0, 'negated'],\n",
       "  [[5434, 8506], 1, 'negated'],\n",
       "  [[8506, 2771], 0, 'negated'],\n",
       "  [[17808, 8506], 1, 'negated'],\n",
       "  [[8506, 1700], 0, 'negated'],\n",
       "  [[7920, 8506], 1, 'negated'],\n",
       "  [[8506], 0, 'negated'],\n",
       "  [[8506, 3418], 0, 'negated'],\n",
       "  [[11405, 429, 8506], 2, 'suspected'],\n",
       "  [[13956, 8506], 1, 'suspected'],\n",
       "  [[4346, 8506], 1, 'suspected'],\n",
       "  [[20327, 8506], 1, 'suspected'],\n",
       "  [[11405, 884, 8506], 2, 'suspected'],\n",
       "  [[9181, 3998, 8506], 2, 'suspected'],\n",
       "  [[25626, 8506], 1, 'suspected'],\n",
       "  [[8506, 7074], 0, 'suspected'],\n",
       "  [[4346, 8506], 1, 'suspected'],\n",
       "  [[474, 727, 8506], 2, 'suspected']]}"
      ]
     },
     "execution_count": 37,
     "metadata": {},
     "output_type": "execute_result"
    }
   ],
   "source": [
    "prepare_from_miade_csv(test, category_name=\"presence\", cntx_left=5, cntx_right=8, tokenizer=mc.tokenizer, replace_center=\"disease\")"
   ]
  },
  {
   "cell_type": "code",
   "execution_count": null,
   "id": "3b6fcfbd-eef9-462a-8924-077cfbea55a5",
   "metadata": {},
   "outputs": [],
   "source": []
  }
 ],
 "metadata": {
  "kernelspec": {
   "display_name": "Python 3 (ipykernel)",
   "language": "python",
   "name": "python3"
  },
  "language_info": {
   "codemirror_mode": {
    "name": "ipython",
    "version": 3
   },
   "file_extension": ".py",
   "mimetype": "text/x-python",
   "name": "python",
   "nbconvert_exporter": "python",
   "pygments_lexer": "ipython3",
   "version": "3.8.17"
  }
 },
 "nbformat": 4,
 "nbformat_minor": 5
}
