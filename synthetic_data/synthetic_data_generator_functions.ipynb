{
 "cells": [
  {
   "cell_type": "code",
   "execution_count": 1,
   "id": "2067edc6-a182-462d-9916-91dd9fb927df",
   "metadata": {},
   "outputs": [
    {
     "name": "stderr",
     "output_type": "stream",
     "text": [
      "/home/jennifer/Documents/miade-datasets/venv/lib/python3.8/site-packages/medcat/cat.py:18: TqdmExperimentalWarning: Using `tqdm.autonotebook.tqdm` in notebook mode. Use `tqdm.tqdm` instead to force console mode (e.g. in jupyter console)\n",
      "  from tqdm.autonotebook import tqdm, trange\n"
     ]
    }
   ],
   "source": [
    "import json \n",
    "import re\n",
    "import pandas as pd\n",
    "import numpy as np\n",
    "import seaborn as sns\n",
    "\n",
    "from typing import Dict, Optional, Tuple, Iterable, List\n",
    "from matplotlib import pyplot as plt\n",
    "from medcat.cat import CAT\n",
    "from medcat.cdb import CDB\n",
    "from medcat.config import Config\n",
    "from medcat.vocab import Vocab\n",
    "from medcat.meta_cat import MetaCAT\n",
    "from medcat.config_meta_cat import ConfigMetaCAT\n",
    "from medcat.preprocessing.tokenizers import TokenizerWrapperBPE, TokenizerWrapperBERT\n",
    "from tokenizers import ByteLevelBPETokenizer\n",
    "from medcat.tokenizers.meta_cat_tokenizers import TokenizerWrapperBase"
   ]
  },
  {
   "cell_type": "code",
   "execution_count": 2,
   "id": "d74c80ea-ab20-4f55-ab07-d6a53a83dca1",
   "metadata": {},
   "outputs": [],
   "source": [
    "DATA_DIR = \"../problems/metacat_problems_07mar2023\""
   ]
  },
  {
   "cell_type": "markdown",
   "id": "9ba26ec0-dd1d-41a9-b49b-d60ae242226d",
   "metadata": {},
   "source": [
    "## Preprocess data\n",
    "This function processes the CSV data provided in ```miade-dataset``` into a dataframe ```[text, cui, name, start, end, <category_name>...]```"
   ]
  },
  {
   "cell_type": "code",
   "execution_count": 9,
   "id": "975d4190-250d-4096-a1d5-f56851e2af34",
   "metadata": {},
   "outputs": [],
   "source": [
    "def preprocess_miade_synthetic_data(data_path, lower_case=True, prefix=\"p\"):\n",
    "    \n",
    "    data = pd.read_csv(data_path)\n",
    "    \n",
    "    if lower_case:\n",
    "        data = data.fillna('').astype(str).apply(lambda x: x.str.lower())  # all lower case\n",
    "    else:\n",
    "        if prefix == \"p\":\n",
    "            data[[\"p_meta_relevance\", \"p_meta_confirmed\", \"p_meta_laterality\"]] = data[[\"p_meta_relevance\", \"p_meta_confirmed\", \"p_meta_laterality\"]].apply(lambda x: str(x).lower())\n",
    "    \n",
    "    # extract cui and name in separate columns\n",
    "    data[[\"cui\", \"name\"]] = data[prefix].str.extract(r\"^(\\d+)\\s+\\|\\s+(.+)$\")\n",
    "    # remove words inside brackets e.g.(disease) \n",
    "    data[\"name\"].replace(r\"\\s*\\([^)]*\\)\", \"\", regex=True, inplace=True)\n",
    "    data.drop(prefix, axis=1, inplace=True)\n",
    "    \n",
    "    # get the start and end indices of the concept inside {p ...} format\n",
    "    if prefix == \"p\":\n",
    "        p = re.compile(r\"(\\{p )|\\}\")\n",
    "    elif prefix == \"m\":\n",
    "        p = re.compile(r\"(\\{m )|\\}\")\n",
    "    elif prefix == \"r\":\n",
    "        p = re.compile(r\"(\\{r )|\\}\")\n",
    "        \n",
    "    start = []\n",
    "    end = []\n",
    "    for i in range(len(data)):\n",
    "        match = [m for m in re.finditer(p, data.text.values[i])]\n",
    "        if len(match) > 2:\n",
    "            print(\"More than one concept in text, only processing first one\")\n",
    "        \n",
    "        start.append(match[0].end() - 3)  # shift by -3\n",
    "        end.append(match[1].start() - 3)\n",
    "    \n",
    "    data[\"start\"] = start\n",
    "    data[\"end\"] = end\n",
    "    \n",
    "    # remove annotation brackets\n",
    "    data[\"text\"].replace(p, \"\", regex=True, inplace=True)  \n",
    "    \n",
    "    if prefix == \"p\":\n",
    "        # convert labels\n",
    "        data.replace(\"no laterality\", \"none\", inplace=True)\n",
    "        data.replace(\"positive\", \"present\", inplace=True)\n",
    "        # tidy up columns\n",
    "        data.rename(columns={\"p_meta_relevance\": \"relevance\", \"p_meta_confirmed\": \"presence\", \"p_meta_laterality\": \"laterality (generic)\"}, inplace=True)\n",
    "        data = data[[\"text\", \"cui\", \"name\", \"start\", \"end\", \"relevance\", \"presence\", \"laterality (generic)\"]]\n",
    "    \n",
    "    return data"
   ]
  },
  {
   "cell_type": "code",
   "execution_count": 10,
   "id": "a8e2b99b-db49-4f31-a07c-13ce3d087991",
   "metadata": {},
   "outputs": [],
   "source": [
    "df = preprocess_miade_synthetic_data(DATA_DIR + \"/metacat_problems_positive.csv\")"
   ]
  },
  {
   "cell_type": "code",
   "execution_count": 11,
   "id": "a23d4a7e-4014-4cc8-8e02-f3e65ad9b4fa",
   "metadata": {},
   "outputs": [
    {
     "data": {
      "text/html": [
       "<div>\n",
       "<style scoped>\n",
       "    .dataframe tbody tr th:only-of-type {\n",
       "        vertical-align: middle;\n",
       "    }\n",
       "\n",
       "    .dataframe tbody tr th {\n",
       "        vertical-align: top;\n",
       "    }\n",
       "\n",
       "    .dataframe thead th {\n",
       "        text-align: right;\n",
       "    }\n",
       "</style>\n",
       "<table border=\"1\" class=\"dataframe\">\n",
       "  <thead>\n",
       "    <tr style=\"text-align: right;\">\n",
       "      <th></th>\n",
       "      <th>text</th>\n",
       "      <th>cui</th>\n",
       "      <th>name</th>\n",
       "      <th>start</th>\n",
       "      <th>end</th>\n",
       "      <th>relevance</th>\n",
       "      <th>presence</th>\n",
       "      <th>laterality (generic)</th>\n",
       "    </tr>\n",
       "  </thead>\n",
       "  <tbody>\n",
       "    <tr>\n",
       "      <th>0</th>\n",
       "      <td>arenaviral hemorrhagic fever injury of ulnar v...</td>\n",
       "      <td>24272004</td>\n",
       "      <td>injury of ulnar vein</td>\n",
       "      <td>29</td>\n",
       "      <td>49</td>\n",
       "      <td>present</td>\n",
       "      <td>confirmed</td>\n",
       "      <td>none</td>\n",
       "    </tr>\n",
       "    <tr>\n",
       "      <th>1</th>\n",
       "      <td>dieffenbachia species poisoning fluocinolone a...</td>\n",
       "      <td>293163000</td>\n",
       "      <td>fluocinolone adverse reaction</td>\n",
       "      <td>32</td>\n",
       "      <td>61</td>\n",
       "      <td>present</td>\n",
       "      <td>confirmed</td>\n",
       "      <td>none</td>\n",
       "    </tr>\n",
       "    <tr>\n",
       "      <th>2</th>\n",
       "      <td>infection - perineal wound sarcoid myopathy ch...</td>\n",
       "      <td>193251003</td>\n",
       "      <td>sarcoid myopathy</td>\n",
       "      <td>27</td>\n",
       "      <td>43</td>\n",
       "      <td>present</td>\n",
       "      <td>confirmed</td>\n",
       "      <td>none</td>\n",
       "    </tr>\n",
       "    <tr>\n",
       "      <th>3</th>\n",
       "      <td>ulcer of anus poisoning caused by flucytosine ...</td>\n",
       "      <td>66491001</td>\n",
       "      <td>poisoning caused by flucytosine</td>\n",
       "      <td>14</td>\n",
       "      <td>45</td>\n",
       "      <td>present</td>\n",
       "      <td>confirmed</td>\n",
       "      <td>none</td>\n",
       "    </tr>\n",
       "    <tr>\n",
       "      <th>4</th>\n",
       "      <td>eosinophilic duodenal ulcer eruption cyst of j...</td>\n",
       "      <td>42323001</td>\n",
       "      <td>eruption cyst of jaw</td>\n",
       "      <td>28</td>\n",
       "      <td>48</td>\n",
       "      <td>present</td>\n",
       "      <td>confirmed</td>\n",
       "      <td>none</td>\n",
       "    </tr>\n",
       "    <tr>\n",
       "      <th>...</th>\n",
       "      <td>...</td>\n",
       "      <td>...</td>\n",
       "      <td>...</td>\n",
       "      <td>...</td>\n",
       "      <td>...</td>\n",
       "      <td>...</td>\n",
       "      <td>...</td>\n",
       "      <td>...</td>\n",
       "    </tr>\n",
       "    <tr>\n",
       "      <th>10995</th>\n",
       "      <td>problem list optic chiasm disorder</td>\n",
       "      <td>70476006</td>\n",
       "      <td>optic chiasm disorder</td>\n",
       "      <td>13</td>\n",
       "      <td>34</td>\n",
       "      <td>present</td>\n",
       "      <td>confirmed</td>\n",
       "      <td>none</td>\n",
       "    </tr>\n",
       "    <tr>\n",
       "      <th>10996</th>\n",
       "      <td>leiomyosarcoma of colon stab wound of abdomen ...</td>\n",
       "      <td>283475002</td>\n",
       "      <td>stab wound of abdomen</td>\n",
       "      <td>24</td>\n",
       "      <td>45</td>\n",
       "      <td>present</td>\n",
       "      <td>confirmed</td>\n",
       "      <td>none</td>\n",
       "    </tr>\n",
       "    <tr>\n",
       "      <th>10997</th>\n",
       "      <td>sclerosing hemangioma of lung neuritis of saph...</td>\n",
       "      <td>429668008</td>\n",
       "      <td>neuritis of saphenous nerve</td>\n",
       "      <td>30</td>\n",
       "      <td>57</td>\n",
       "      <td>present</td>\n",
       "      <td>confirmed</td>\n",
       "      <td>none</td>\n",
       "    </tr>\n",
       "    <tr>\n",
       "      <th>10998</th>\n",
       "      <td>accidental clarithromycin overdose chondrocalc...</td>\n",
       "      <td>15705241000119106</td>\n",
       "      <td>chondrocalcinosis of bilateral shoulders</td>\n",
       "      <td>35</td>\n",
       "      <td>75</td>\n",
       "      <td>present</td>\n",
       "      <td>confirmed</td>\n",
       "      <td>bilateral</td>\n",
       "    </tr>\n",
       "    <tr>\n",
       "      <th>10999</th>\n",
       "      <td>open fracture of larynx laceration of omentum ...</td>\n",
       "      <td>262888006</td>\n",
       "      <td>laceration of omentum</td>\n",
       "      <td>24</td>\n",
       "      <td>45</td>\n",
       "      <td>present</td>\n",
       "      <td>confirmed</td>\n",
       "      <td>none</td>\n",
       "    </tr>\n",
       "  </tbody>\n",
       "</table>\n",
       "<p>11000 rows × 8 columns</p>\n",
       "</div>"
      ],
      "text/plain": [
       "                                                    text                cui  \\\n",
       "0      arenaviral hemorrhagic fever injury of ulnar v...           24272004   \n",
       "1      dieffenbachia species poisoning fluocinolone a...          293163000   \n",
       "2      infection - perineal wound sarcoid myopathy ch...          193251003   \n",
       "3      ulcer of anus poisoning caused by flucytosine ...           66491001   \n",
       "4      eosinophilic duodenal ulcer eruption cyst of j...           42323001   \n",
       "...                                                  ...                ...   \n",
       "10995                 problem list optic chiasm disorder           70476006   \n",
       "10996  leiomyosarcoma of colon stab wound of abdomen ...          283475002   \n",
       "10997  sclerosing hemangioma of lung neuritis of saph...          429668008   \n",
       "10998  accidental clarithromycin overdose chondrocalc...  15705241000119106   \n",
       "10999  open fracture of larynx laceration of omentum ...          262888006   \n",
       "\n",
       "                                           name  start  end relevance  \\\n",
       "0                          injury of ulnar vein     29   49   present   \n",
       "1                 fluocinolone adverse reaction     32   61   present   \n",
       "2                              sarcoid myopathy     27   43   present   \n",
       "3               poisoning caused by flucytosine     14   45   present   \n",
       "4                          eruption cyst of jaw     28   48   present   \n",
       "...                                         ...    ...  ...       ...   \n",
       "10995                     optic chiasm disorder     13   34   present   \n",
       "10996                     stab wound of abdomen     24   45   present   \n",
       "10997               neuritis of saphenous nerve     30   57   present   \n",
       "10998  chondrocalcinosis of bilateral shoulders     35   75   present   \n",
       "10999                     laceration of omentum     24   45   present   \n",
       "\n",
       "        presence laterality (generic)  \n",
       "0      confirmed                 none  \n",
       "1      confirmed                 none  \n",
       "2      confirmed                 none  \n",
       "3      confirmed                 none  \n",
       "4      confirmed                 none  \n",
       "...          ...                  ...  \n",
       "10995  confirmed                 none  \n",
       "10996  confirmed                 none  \n",
       "10997  confirmed                 none  \n",
       "10998  confirmed            bilateral  \n",
       "10999  confirmed                 none  \n",
       "\n",
       "[11000 rows x 8 columns]"
      ]
     },
     "execution_count": 11,
     "metadata": {},
     "output_type": "execute_result"
    }
   ],
   "source": [
    "df"
   ]
  },
  {
   "cell_type": "code",
   "execution_count": 12,
   "id": "815056a8-ff78-4eb7-bba5-fde73e626bf3",
   "metadata": {},
   "outputs": [
    {
     "data": {
      "text/plain": [
       "74.931"
      ]
     },
     "execution_count": 12,
     "metadata": {},
     "output_type": "execute_result"
    }
   ],
   "source": [
    "df['text'].str.len().mean()"
   ]
  },
  {
   "cell_type": "code",
   "execution_count": 13,
   "id": "bc599d0e-bba3-4062-bb41-1c452eed9b8c",
   "metadata": {},
   "outputs": [
    {
     "name": "stdout",
     "output_type": "stream",
     "text": [
      "injury of ulnar vein\n",
      "fluocinolone adverse reaction\n",
      "sarcoid myopathy\n",
      "poisoning caused by flucytosine\n",
      "eruption cyst of jaw\n",
      "urachal abscess\n",
      "uncomplicated non-allergic asthma\n",
      "self-healing juvenile cutaneous mucinosis\n",
      "beckwith-wiedemann syndrome\n",
      "familial primary pulmonary hypertension\n"
     ]
    }
   ],
   "source": [
    "# sanity checks\n",
    "for i in range(10):\n",
    "    print(df.text.values[i][df.start.values[i]:df.end.values[i]])"
   ]
  },
  {
   "cell_type": "code",
   "execution_count": 14,
   "id": "e013b2f4-8b00-477c-8529-c6634b8ee51b",
   "metadata": {
    "tags": []
   },
   "outputs": [
    {
     "name": "stdout",
     "output_type": "stream",
     "text": [
      "[\"arenaviral hemorrhagic fever injury of ulnar vein koenig's syndrome ii\", 29, 49, 'present']\n",
      "['dieffenbachia species poisoning fluocinolone adverse reaction pure sensorimotor lacunar infarction', 32, 61, 'present']\n",
      "['infection - perineal wound sarcoid myopathy charcot-marie-tooth disease, type i', 27, 43, 'present']\n",
      "['ulcer of anus poisoning caused by flucytosine piperazine overdose', 14, 45, 'present']\n",
      "['eosinophilic duodenal ulcer eruption cyst of jaw cholesteatoma of attic', 28, 48, 'present']\n",
      "['mycoplasma balanitis urachal abscess effects of hunger', 21, 36, 'present']\n",
      "['benign neoplasm of back uncomplicated non-allergic asthma blau syndrome', 24, 57, 'present']\n",
      "['sedative amnestic disorder self-healing juvenile cutaneous mucinosis episodic tension-type headache', 27, 68, 'present']\n",
      "['intentional nitrous oxide overdose beckwith-wiedemann syndrome mild pulmonary valve regurgitation', 35, 62, 'present']\n",
      "['problems familial primary pulmonary hypertension', 9, 48, 'present']\n"
     ]
    }
   ],
   "source": [
    "for i in range(10):\n",
    "    print(df[[\"text\", \"start\", \"end\", \"relevance\"]].iloc[i].tolist())"
   ]
  },
  {
   "cell_type": "markdown",
   "id": "4f6aa29c-d81f-47ab-aa49-d829fa87dfe3",
   "metadata": {},
   "source": [
    "## Generate training data\n",
    "\n",
    "Randomly samples a number of training data and concatenates it into one training data df ready for input into the next step (this is not very efficient)"
   ]
  },
  {
   "cell_type": "code",
   "execution_count": 40,
   "id": "946fc7de-735b-40cc-b112-cefdf028ac02",
   "metadata": {},
   "outputs": [],
   "source": [
    "config_dict = {\n",
    "    \"historic_path\": DATA_DIR + \"/metacat_problems_historic.csv\",\n",
    "    \"suspected_path\": DATA_DIR + \"/metacat_problems_suspected.csv\",\n",
    "    \"negated_path\": DATA_DIR + \"/metacat_problems_negated.csv\",\n",
    "    \"irrelevant_path\": DATA_DIR + \"/metacat_problems_irrelevant.csv\",\n",
    "    \"present_path\": DATA_DIR + \"/metacat_problems_positive.csv\",\n",
    "    \"confirmed_path\": DATA_DIR + \"/metacat_problems_positive.csv\",\n",
    "    \"confirmed_num\": 500,\n",
    "    \"historic_num\": 5000,\n",
    "    \"irrelevant_num\": 5000,\n",
    "    \"present_num\": 500,\n",
    "    \"suspected_num\": 5000,\n",
    "    \"negated_num\": 5000}"
   ]
  },
  {
   "cell_type": "code",
   "execution_count": 41,
   "id": "e2642caf-d21f-429b-82d8-d3371045b819",
   "metadata": {},
   "outputs": [],
   "source": [
    "def create_problems_training_data(config_dict):\n",
    "    historic_df = preprocess_miade_synthetic_data(config_dict.get(\"historic_path\"))\n",
    "    suspected_df =  preprocess_miade_synthetic_data(config_dict.get(\"suspected_path\"))\n",
    "    irrelevant_df=  preprocess_miade_synthetic_data(config_dict.get(\"irrelevant_path\"))\n",
    "    negated_df =  preprocess_miade_synthetic_data(config_dict.get(\"negated_path\"))\n",
    "    present_df =  preprocess_miade_synthetic_data(config_dict.get(\"present_path\"))\n",
    "    confirmed_df =  preprocess_miade_synthetic_data(config_dict.get(\"confirmed_path\"))\n",
    "    \n",
    "    historic_train = []\n",
    "    suspected_train = []\n",
    "    irrelevant_train = []\n",
    "    negated_train = []\n",
    "    present_train = []\n",
    "    confirmed_train = []\n",
    "    \n",
    "    if historic_df is not None:\n",
    "        historic_train = historic_df[:config_dict[\"historic_num\"]]\n",
    "    if suspected_df is not None:\n",
    "        suspected_train = suspected_df[:config_dict[\"suspected_num\"]]\n",
    "    if irrelevant_df is not None:\n",
    "        irrelevant_train = irrelevant_df[:config_dict[\"irrelevant_num\"]]\n",
    "    if negated_df is not None:\n",
    "        negated_train = negated_df[:config_dict[\"negated_num\"]]\n",
    "    if present_df is not None:\n",
    "        present_train = present_df[:config_dict[\"present_num\"]]\n",
    "    if confirmed_df is not None:\n",
    "        confirmed_train = confirmed_df[-config_dict[\"confirmed_num\"]:]\n",
    "    \n",
    "    train_data = pd.concat([historic_train, suspected_train, irrelevant_train, negated_train, present_train, confirmed_train], ignore_index=True)\n",
    "    print(len(train_data))\n",
    "    \n",
    "    return train_data"
   ]
  },
  {
   "cell_type": "code",
   "execution_count": 42,
   "id": "4f22a1db-b92d-46ad-85ae-71ee5533956e",
   "metadata": {},
   "outputs": [
    {
     "name": "stdout",
     "output_type": "stream",
     "text": [
      "20000\n"
     ]
    }
   ],
   "source": [
    "train_df = create_problems_training_data(config_dict)"
   ]
  },
  {
   "cell_type": "code",
   "execution_count": 43,
   "id": "750143ce-492a-4b8a-a9e5-83ce62e40bd1",
   "metadata": {},
   "outputs": [
    {
     "data": {
      "text/html": [
       "<div>\n",
       "<style scoped>\n",
       "    .dataframe tbody tr th:only-of-type {\n",
       "        vertical-align: middle;\n",
       "    }\n",
       "\n",
       "    .dataframe tbody tr th {\n",
       "        vertical-align: top;\n",
       "    }\n",
       "\n",
       "    .dataframe thead th {\n",
       "        text-align: right;\n",
       "    }\n",
       "</style>\n",
       "<table border=\"1\" class=\"dataframe\">\n",
       "  <thead>\n",
       "    <tr style=\"text-align: right;\">\n",
       "      <th></th>\n",
       "      <th>text</th>\n",
       "      <th>cui</th>\n",
       "      <th>name</th>\n",
       "      <th>start</th>\n",
       "      <th>end</th>\n",
       "      <th>relevance</th>\n",
       "      <th>presence</th>\n",
       "      <th>laterality (generic)</th>\n",
       "    </tr>\n",
       "  </thead>\n",
       "  <tbody>\n",
       "    <tr>\n",
       "      <th>0</th>\n",
       "      <td>decidual endometritis from age 12</td>\n",
       "      <td>75585005</td>\n",
       "      <td>decidual endometritis</td>\n",
       "      <td>0</td>\n",
       "      <td>21</td>\n",
       "      <td>historic</td>\n",
       "      <td>confirmed</td>\n",
       "      <td>none</td>\n",
       "    </tr>\n",
       "    <tr>\n",
       "      <th>1</th>\n",
       "      <td>bilateral metatarsus adductus prev</td>\n",
       "      <td>15667441000119108</td>\n",
       "      <td>bilateral metatarsus adductus</td>\n",
       "      <td>0</td>\n",
       "      <td>29</td>\n",
       "      <td>historic</td>\n",
       "      <td>confirmed</td>\n",
       "      <td>bilateral</td>\n",
       "    </tr>\n",
       "    <tr>\n",
       "      <th>2</th>\n",
       "      <td>crohn's disease of pylorus a few years previously</td>\n",
       "      <td>61424003</td>\n",
       "      <td>crohn's disease of pylorus</td>\n",
       "      <td>0</td>\n",
       "      <td>26</td>\n",
       "      <td>historic</td>\n",
       "      <td>confirmed</td>\n",
       "      <td>none</td>\n",
       "    </tr>\n",
       "    <tr>\n",
       "      <th>3</th>\n",
       "      <td>no prev hist of congenital facial nerve palsy</td>\n",
       "      <td>230542008</td>\n",
       "      <td>congenital facial nerve palsy</td>\n",
       "      <td>16</td>\n",
       "      <td>45</td>\n",
       "      <td>historic</td>\n",
       "      <td>negated</td>\n",
       "      <td>none</td>\n",
       "    </tr>\n",
       "    <tr>\n",
       "      <th>4</th>\n",
       "      <td>no prev hx accidental fusidic acid overdose</td>\n",
       "      <td>296643001</td>\n",
       "      <td>accidental fusidic acid overdose</td>\n",
       "      <td>11</td>\n",
       "      <td>43</td>\n",
       "      <td>historic</td>\n",
       "      <td>negated</td>\n",
       "      <td>none</td>\n",
       "    </tr>\n",
       "    <tr>\n",
       "      <th>5</th>\n",
       "      <td>benign neoplasm of rib last 8 months</td>\n",
       "      <td>92326008</td>\n",
       "      <td>benign neoplasm of rib</td>\n",
       "      <td>0</td>\n",
       "      <td>22</td>\n",
       "      <td>historic</td>\n",
       "      <td>confirmed</td>\n",
       "      <td>none</td>\n",
       "    </tr>\n",
       "    <tr>\n",
       "      <th>6</th>\n",
       "      <td>chronic lymphangitis upto age 63</td>\n",
       "      <td>78973009</td>\n",
       "      <td>chronic lymphangitis</td>\n",
       "      <td>0</td>\n",
       "      <td>20</td>\n",
       "      <td>historic</td>\n",
       "      <td>confirmed</td>\n",
       "      <td>none</td>\n",
       "    </tr>\n",
       "    <tr>\n",
       "      <th>7</th>\n",
       "      <td>contact granuloma of larynx few yrs previously</td>\n",
       "      <td>12181000119103</td>\n",
       "      <td>contact granuloma of larynx</td>\n",
       "      <td>0</td>\n",
       "      <td>27</td>\n",
       "      <td>historic</td>\n",
       "      <td>confirmed</td>\n",
       "      <td>none</td>\n",
       "    </tr>\n",
       "    <tr>\n",
       "      <th>8</th>\n",
       "      <td>reflux gastritis last 1 mth</td>\n",
       "      <td>57433008</td>\n",
       "      <td>reflux gastritis</td>\n",
       "      <td>0</td>\n",
       "      <td>16</td>\n",
       "      <td>historic</td>\n",
       "      <td>confirmed</td>\n",
       "      <td>none</td>\n",
       "    </tr>\n",
       "    <tr>\n",
       "      <th>9</th>\n",
       "      <td>prev hist inflammation of spermatic cord</td>\n",
       "      <td>737173008</td>\n",
       "      <td>inflammation of spermatic cord</td>\n",
       "      <td>10</td>\n",
       "      <td>40</td>\n",
       "      <td>historic</td>\n",
       "      <td>confirmed</td>\n",
       "      <td>none</td>\n",
       "    </tr>\n",
       "  </tbody>\n",
       "</table>\n",
       "</div>"
      ],
      "text/plain": [
       "                                                text                cui  \\\n",
       "0                  decidual endometritis from age 12           75585005   \n",
       "1                 bilateral metatarsus adductus prev  15667441000119108   \n",
       "2  crohn's disease of pylorus a few years previously           61424003   \n",
       "3      no prev hist of congenital facial nerve palsy          230542008   \n",
       "4        no prev hx accidental fusidic acid overdose          296643001   \n",
       "5               benign neoplasm of rib last 8 months           92326008   \n",
       "6                   chronic lymphangitis upto age 63           78973009   \n",
       "7     contact granuloma of larynx few yrs previously     12181000119103   \n",
       "8                        reflux gastritis last 1 mth           57433008   \n",
       "9           prev hist inflammation of spermatic cord          737173008   \n",
       "\n",
       "                               name  start  end relevance   presence  \\\n",
       "0             decidual endometritis      0   21  historic  confirmed   \n",
       "1     bilateral metatarsus adductus      0   29  historic  confirmed   \n",
       "2        crohn's disease of pylorus      0   26  historic  confirmed   \n",
       "3     congenital facial nerve palsy     16   45  historic    negated   \n",
       "4  accidental fusidic acid overdose     11   43  historic    negated   \n",
       "5            benign neoplasm of rib      0   22  historic  confirmed   \n",
       "6              chronic lymphangitis      0   20  historic  confirmed   \n",
       "7       contact granuloma of larynx      0   27  historic  confirmed   \n",
       "8                  reflux gastritis      0   16  historic  confirmed   \n",
       "9    inflammation of spermatic cord     10   40  historic  confirmed   \n",
       "\n",
       "  laterality (generic)  \n",
       "0                 none  \n",
       "1            bilateral  \n",
       "2                 none  \n",
       "3                 none  \n",
       "4                 none  \n",
       "5                 none  \n",
       "6                 none  \n",
       "7                 none  \n",
       "8                 none  \n",
       "9                 none  "
      ]
     },
     "execution_count": 43,
     "metadata": {},
     "output_type": "execute_result"
    }
   ],
   "source": [
    "train_df.head(10)"
   ]
  },
  {
   "cell_type": "code",
   "execution_count": 44,
   "id": "798b40c9-e121-426f-87ba-f0e55b10a45b",
   "metadata": {
    "tags": []
   },
   "outputs": [
    {
     "data": {
      "text/plain": [
       "confirmed    10079\n",
       "suspected     5000\n",
       "negated       4921\n",
       "Name: presence, dtype: int64"
      ]
     },
     "execution_count": 44,
     "metadata": {},
     "output_type": "execute_result"
    }
   ],
   "source": [
    "train_df.presence.value_counts()"
   ]
  },
  {
   "cell_type": "code",
   "execution_count": 45,
   "id": "8c02648f-053d-4e92-9c21-3ee3f32363c0",
   "metadata": {
    "tags": []
   },
   "outputs": [
    {
     "data": {
      "text/plain": [
       "present       10000\n",
       "historic       5000\n",
       "irrelevant     5000\n",
       "Name: relevance, dtype: int64"
      ]
     },
     "execution_count": 45,
     "metadata": {},
     "output_type": "execute_result"
    }
   ],
   "source": [
    "train_df.relevance.value_counts()"
   ]
  },
  {
   "cell_type": "code",
   "execution_count": 46,
   "id": "21babef4-2a2b-4d0d-a553-4341d40a27f7",
   "metadata": {},
   "outputs": [],
   "source": [
    "# save\n",
    "train_df.to_csv(\"./data/problems_synthetic_train_data.csv\", index=False)"
   ]
  },
  {
   "cell_type": "markdown",
   "id": "27e4f2ce-8c72-40c6-84c3-55a314ee4afe",
   "metadata": {},
   "source": [
    "## Tokenize and convert to training data input\n",
    "\n",
    "Modified from the utility function prepare_from_json() from MedCAT:\n",
    "https://github.com/CogStack/MedCAT/blob/3e979951b0bf817b56445d90c6e7fcab97ef0390/medcat/utils/meta_cat/data_utils.py#L5\n",
    "\n",
    "Instead of using MedCATTrainer JSON, this function takes the preprocessed MiADE synthetic data CSV (output from ```preprocess_miade_synthetic_data()```) and converts it to output data that is ready for input into Pytorch model training, which is wrapped inside the MetaCAT ```train()``` function"
   ]
  },
  {
   "cell_type": "code",
   "execution_count": 12,
   "id": "a8f1e732-59ab-4175-8d21-c0da851ecb1b",
   "metadata": {},
   "outputs": [],
   "source": [
    "def prepare_from_miade_csv(\n",
    "    data: pd.DataFrame,\n",
    "    category_name: str,\n",
    "    cntx_left: int,\n",
    "    cntx_right: int,\n",
    "    tokenizer: TokenizerWrapperBase,\n",
    "    replace_center: str = None,\n",
    "    lowercase: bool = True,\n",
    "    ) -> Dict:\n",
    "\n",
    "    out_data: Dict = {}\n",
    "    \n",
    "    for i in range(len(data)):\n",
    "        text = data.text.values[i]\n",
    "            \n",
    "        if len(text) > 0:\n",
    "            doc_text = tokenizer(text)\n",
    "        \n",
    "            start = data.start.values[i]\n",
    "            end = data.end.values[i]\n",
    "\n",
    "            # Get the index of the center token\n",
    "            ind = 0\n",
    "            for ind, pair in enumerate(doc_text['offset_mapping']):\n",
    "                if start >= pair[0] and start < pair[1]:\n",
    "                    break\n",
    "\n",
    "            _start = max(0, ind - cntx_left)\n",
    "            _end = min(len(doc_text['input_ids']), ind + 1 + cntx_right)\n",
    "            tkns = doc_text['input_ids'][_start:_end]\n",
    "            cpos = cntx_left + min(0, ind-cntx_left)\n",
    "            \n",
    "            if replace_center is not None:\n",
    "                if lowercase:\n",
    "                    replace_center = replace_center.lower()\n",
    "                for p_ind, pair in enumerate(doc_text['offset_mapping']):\n",
    "                    if start >= pair[0] and start < pair[1]:\n",
    "                        s_ind = p_ind\n",
    "                    if end > pair[0] and end <= pair[1]:\n",
    "                        e_ind = p_ind\n",
    "\n",
    "                ln = e_ind - s_ind\n",
    "                tkns = tkns[:cpos] + tokenizer(replace_center)['input_ids'] + tkns[cpos+ln+1:]\n",
    "            \n",
    "            value = data[category_name].values[i]\n",
    "            sample = [tkns, cpos, value]\n",
    "\n",
    "            if category_name in out_data:\n",
    "                out_data[category_name].append(sample)\n",
    "            else:\n",
    "                out_data[category_name] = [sample]\n",
    "    \n",
    "    return out_data"
   ]
  },
  {
   "cell_type": "code",
   "execution_count": 13,
   "id": "87ac1101-8d02-441b-b439-da1c35b75008",
   "metadata": {},
   "outputs": [],
   "source": [
    "# example tokenizer\n",
    "mc = MetaCAT.load(\"./examples/Status\")"
   ]
  },
  {
   "cell_type": "code",
   "execution_count": 14,
   "id": "e53c764a-f6e0-4c94-9a4c-be3faad17cea",
   "metadata": {
    "tags": []
   },
   "outputs": [
    {
     "data": {
      "text/plain": [
       "{'presence': [[[3564, 2430, 313, 8506], 3, 'confirmed'],\n",
       "  [[9732, 2430, 8506], 2, 'confirmed'],\n",
       "  [[8506, 360, 3073, 2541], 0, 'confirmed'],\n",
       "  [[19, 15267, 8506], 2, 'confirmed'],\n",
       "  [[8506, 1132, 2890, 8453, 785], 0, 'confirmed'],\n",
       "  [[8506, 645, 476, 16841, 82], 0, 'confirmed'],\n",
       "  [[1547, 1051, 313, 8506], 3, 'negated'],\n",
       "  [[8506, 645, 464, 16841], 0, 'confirmed'],\n",
       "  [[8506, 1922, 14636], 0, 'confirmed'],\n",
       "  [[11694, 8506], 1, 'confirmed'],\n",
       "  [[11405, 429, 8506], 2, 'suspected'],\n",
       "  [[13956, 8506], 1, 'suspected'],\n",
       "  [[4346, 8506], 1, 'suspected'],\n",
       "  [[20327, 8506], 1, 'suspected'],\n",
       "  [[11405, 884, 8506], 2, 'suspected'],\n",
       "  [[9181, 3998, 8506], 2, 'suspected'],\n",
       "  [[25626, 8506], 1, 'suspected'],\n",
       "  [[8506, 7074], 0, 'suspected'],\n",
       "  [[4346, 8506], 1, 'suspected'],\n",
       "  [[474, 727, 8506], 2, 'suspected'],\n",
       "  [[8260, 313, 8506], 2, 'confirmed'],\n",
       "  [[3028, 6366, 8506], 2, 'confirmed'],\n",
       "  [[12351, 82, 796, 8506], 3, 'confirmed'],\n",
       "  [[3028, 6366, 796, 8506], 3, 'confirmed'],\n",
       "  [[16756, 8107, 8506], 2, 'confirmed'],\n",
       "  [[7465, 5000, 6144, 8506], 3, 'confirmed'],\n",
       "  [[7465, 5000, 8202, 2042, 531, 8506], 5, 'confirmed'],\n",
       "  [[12411, 8506], 1, 'confirmed'],\n",
       "  [[3028, 11292, 8506], 2, 'confirmed'],\n",
       "  [[3028, 6366, 8202, 2042, 531, 8506], 5, 'confirmed'],\n",
       "  [[8506, 1310], 0, 'negated'],\n",
       "  [[8506, 2771], 0, 'negated'],\n",
       "  [[5434, 8506], 1, 'negated'],\n",
       "  [[8506, 2771], 0, 'negated'],\n",
       "  [[17808, 8506], 1, 'negated'],\n",
       "  [[8506, 1700], 0, 'negated'],\n",
       "  [[7920, 8506], 1, 'negated'],\n",
       "  [[8506], 0, 'negated'],\n",
       "  [[8506, 3418], 0, 'negated'],\n",
       "  [[8506, 1064], 0, 'negated']]}"
      ]
     },
     "execution_count": 14,
     "metadata": {},
     "output_type": "execute_result"
    }
   ],
   "source": [
    "prepare_from_miade_csv(train_df, category_name=\"presence\", cntx_left=5, cntx_right=8, tokenizer=mc.tokenizer, replace_center=\"disease\")"
   ]
  },
  {
   "cell_type": "code",
   "execution_count": 36,
   "id": "2d75dbc6-114c-46a0-8c18-eb7308066739",
   "metadata": {
    "tags": []
   },
   "outputs": [],
   "source": [
    "test = pd.concat([train_df[train_df[\"presence\"] == \"negated\"][:10], train_df[train_df[\"presence\"] == \"suspected\"][:10]], ignore_index=True)"
   ]
  },
  {
   "cell_type": "code",
   "execution_count": 37,
   "id": "0585b0d9-d355-4f50-9beb-a98f2398377a",
   "metadata": {
    "tags": []
   },
   "outputs": [
    {
     "data": {
      "text/plain": [
       "{'presence': [[[1547, 1051, 313, 8506], 3, 'negated'],\n",
       "  [[8506, 1310], 0, 'negated'],\n",
       "  [[8506, 2771], 0, 'negated'],\n",
       "  [[5434, 8506], 1, 'negated'],\n",
       "  [[8506, 2771], 0, 'negated'],\n",
       "  [[17808, 8506], 1, 'negated'],\n",
       "  [[8506, 1700], 0, 'negated'],\n",
       "  [[7920, 8506], 1, 'negated'],\n",
       "  [[8506], 0, 'negated'],\n",
       "  [[8506, 3418], 0, 'negated'],\n",
       "  [[11405, 429, 8506], 2, 'suspected'],\n",
       "  [[13956, 8506], 1, 'suspected'],\n",
       "  [[4346, 8506], 1, 'suspected'],\n",
       "  [[20327, 8506], 1, 'suspected'],\n",
       "  [[11405, 884, 8506], 2, 'suspected'],\n",
       "  [[9181, 3998, 8506], 2, 'suspected'],\n",
       "  [[25626, 8506], 1, 'suspected'],\n",
       "  [[8506, 7074], 0, 'suspected'],\n",
       "  [[4346, 8506], 1, 'suspected'],\n",
       "  [[474, 727, 8506], 2, 'suspected']]}"
      ]
     },
     "execution_count": 37,
     "metadata": {},
     "output_type": "execute_result"
    }
   ],
   "source": [
    "prepare_from_miade_csv(test, category_name=\"presence\", cntx_left=5, cntx_right=8, tokenizer=mc.tokenizer, replace_center=\"disease\")"
   ]
  },
  {
   "cell_type": "code",
   "execution_count": null,
   "id": "3b6fcfbd-eef9-462a-8924-077cfbea55a5",
   "metadata": {},
   "outputs": [],
   "source": []
  }
 ],
 "metadata": {
  "kernelspec": {
   "display_name": "Python 3 (ipykernel)",
   "language": "python",
   "name": "python3"
  },
  "language_info": {
   "codemirror_mode": {
    "name": "ipython",
    "version": 3
   },
   "file_extension": ".py",
   "mimetype": "text/x-python",
   "name": "python",
   "nbconvert_exporter": "python",
   "pygments_lexer": "ipython3",
   "version": "3.8.16"
  }
 },
 "nbformat": 4,
 "nbformat_minor": 5
}
