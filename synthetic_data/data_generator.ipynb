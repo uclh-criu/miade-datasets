{
 "cells": [
  {
   "cell_type": "code",
   "execution_count": 98,
   "outputs": [],
   "source": [
    "\n",
    "import pandas as pd\n"
   ],
   "metadata": {
    "collapsed": false,
    "ExecuteTime": {
     "end_time": "2023-08-17T15:04:29.845180614Z",
     "start_time": "2023-08-17T15:04:29.803648800Z"
    }
   }
  },
  {
   "cell_type": "code",
   "execution_count": 99,
   "outputs": [],
   "source": [
    "def clean_text_and_return_concept_indices(input_string, meds_allergies=False):\n",
    "\n",
    "    if meds_allergies:\n",
    "        # Find the indices of \"{r ... }\" and \"{m ... }\" pairs\n",
    "        r_start = input_string.find(\"{r \")\n",
    "        r_end = input_string.find(\"}\", r_start)\n",
    "        m_start = input_string.find(\"{m \")\n",
    "        m_end = input_string.find(\"}\", m_start)\n",
    "\n",
    "        # Remove \"{r ... }\" and \"{m ... }\" patterns from the input string\n",
    "        result_string = input_string.replace(\"{r \", \"\").replace(\"}\", \"\").replace(\"{m \", \"\").replace(\"}\", \"\")\n",
    "\n",
    "        # Calculate the start and end indices for \"{m ... }\" pattern\n",
    "        m_end -= 3\n",
    "        r_end -= 3\n",
    "\n",
    "        # Adjust the start and end indices based on the removal of \"{r ... }\" pattern\n",
    "        if r_start != -1 and r_start < m_start:\n",
    "            m_start -= 4  # Account for the removal of \"{r \" and \"}\"\n",
    "            m_end -= 4\n",
    "\n",
    "        if m_start != -1 and m_start < r_start:\n",
    "            r_start -= 4\n",
    "            r_end -= 4\n",
    "\n",
    "        return result_string, m_start, m_end, r_start, r_end\n",
    "    else:\n",
    "        p_start = input_string.find(\"{p \")\n",
    "        p_end = input_string.find(\"}\", p_start)\n",
    "        result_string = input_string.replace(\"{p \", \"\").replace(\"}\", \"\")\n",
    "        p_end -= 3\n",
    "\n",
    "        return result_string, p_start, p_end"
   ],
   "metadata": {
    "collapsed": false,
    "ExecuteTime": {
     "end_time": "2023-08-17T15:04:30.395526520Z",
     "start_time": "2023-08-17T15:04:30.387713485Z"
    }
   }
  },
  {
   "cell_type": "code",
   "execution_count": 100,
   "outputs": [],
   "source": [
    "def preprocess_miade_synthetic_data(data, lower_case=True, prefix=\"p\"):\n",
    "    # drop any NaNs in the concepts column\n",
    "    data = data.dropna(subset=[prefix]).reset_index(drop=True)\n",
    "\n",
    "    if lower_case:\n",
    "        data = data.astype(str).apply(lambda x: x.str.lower())  # all lower case\n",
    "\n",
    "    # extract cui and name in separate columns\n",
    "    data[[\"cui\", \"name\"]] = data[prefix].str.extract(r\"^(\\d+)\\s*\\|\\s*(.+)$\")\n",
    "    # remove words inside brackets e.g.(disease)\n",
    "    data[\"name\"].replace(r\"\\s*\\([^)]*\\)\", \"\", regex=True, inplace=True)\n",
    "    # drop the original column\n",
    "    data.drop(prefix, axis=1, inplace=True)\n",
    "    # some entries end with | - remove that\n",
    "    data['name'] = data['name'].str.rstrip('|')\n",
    "\n",
    "    # extract the start and end indices of concept from text and remove the annotations e.g. {p...}\n",
    "    start = []\n",
    "    end = []\n",
    "    text = []\n",
    "    for i in range(len(data)):\n",
    "        if prefix == \"m\":\n",
    "            result, m_start, m_end, r_start, r_end = clean_text_and_return_concept_indices(data.text.values[i], meds_allergies=True)\n",
    "            start.append(m_start)\n",
    "            end.append(m_end)\n",
    "        elif prefix == \"r\":\n",
    "            result, m_start, m_end, r_start, r_end = clean_text_and_return_concept_indices(data.text.values[i], meds_allergies=True)\n",
    "            start.append(r_start)\n",
    "            end.append(r_end)\n",
    "        elif prefix == \"p\":\n",
    "            result, p_start, p_end = clean_text_and_return_concept_indices(data.text.values[i])\n",
    "            start.append(p_start)\n",
    "            end.append(p_end)\n",
    "\n",
    "        text.append(result)\n",
    "\n",
    "    data[\"start\"] = start\n",
    "    data[\"end\"] = end\n",
    "    data[\"text\"] = text\n",
    "\n",
    "    if prefix == \"p\":\n",
    "        # convert labels\n",
    "        data.replace(\"no laterality\", \"none\", inplace=True)\n",
    "        data.replace(\"positive\", \"present\", inplace=True)\n",
    "        # tidy up columns\n",
    "        data.rename(columns={\"p_meta_relevance\": \"relevance\", \"p_meta_confirmed\": \"presence\", \"p_meta_laterality\": \"laterality (generic)\"}, inplace=True)\n",
    "        data = data[[\"text\", \"cui\", \"name\", \"start\", \"end\", \"relevance\", \"presence\", \"laterality (generic)\"]]\n",
    "    elif prefix == \"m\":\n",
    "        data.rename(columns={\"m_meta_category\": \"substance_category\", \"m_meta_allergytype\": \"allergy_type\", \"m_meta_severity\": \"severity\"}, inplace=True)\n",
    "        data = data.fillna(\"unspecified\")\n",
    "        data = data[[\"text\", \"cui\", \"name\", \"start\", \"end\", \"substance_category\", \"allergy_type\", \"severity\"]]\n",
    "    elif prefix == \"r\":\n",
    "        data.replace(\"not a reaction\", \"none\", inplace=True)\n",
    "        data.rename(columns={\"r_meta_reactionpos\": \"reaction_pos\"}, inplace=True)\n",
    "        data = data[[\"text\", \"cui\", \"name\", \"start\", \"end\", \"reaction_pos\"]]\n",
    "\n",
    "\n",
    "    return data"
   ],
   "metadata": {
    "collapsed": false,
    "ExecuteTime": {
     "end_time": "2023-08-17T15:04:30.913428192Z",
     "start_time": "2023-08-17T15:04:30.899956291Z"
    }
   }
  },
  {
   "cell_type": "code",
   "execution_count": 101,
   "outputs": [
    {
     "data": {
      "text/plain": "                                                  text        cui  \\\n0                            feeling breathless today.  267036007   \n1    allergies: severe severe depression with co-te...  310497006   \n2      allergies: severe liver palms with cannabidiol.  248413004   \n3    allergies: severe oral dyspraxia with dapoxetine.  361275004   \n4    allergies: severe postcholecystectomy diarrhea...   53156005   \n..                                                 ...        ...   \n356           experienced anaphylaxis with romosozumab   39579001   \n357       had anaphylaxis due to multivitamin capsules   39579001   \n358       had anaphylaxis due to homeopathic hamamelis   39579001   \n359                had anaphylaxis with larvae sterile   39579001   \n360  experienced anaphylaxis due to ipecacuanha tin...   39579001   \n\n                             name  start  end reaction_pos  \n0                         dyspnea      8   18         none  \n1               severe depression     18   35       before  \n2                     liver palms     18   29       before  \n3                  oral dyspraxia     18   32       before  \n4    postcholecystectomy diarrhea     18   46       before  \n..                            ...    ...  ...          ...  \n356                   anaphylaxis     12   23       before  \n357                   anaphylaxis      4   15       before  \n358                   anaphylaxis      4   15       before  \n359                   anaphylaxis      4   15       before  \n360                   anaphylaxis     12   23       before  \n\n[361 rows x 6 columns]",
      "text/html": "<div>\n<style scoped>\n    .dataframe tbody tr th:only-of-type {\n        vertical-align: middle;\n    }\n\n    .dataframe tbody tr th {\n        vertical-align: top;\n    }\n\n    .dataframe thead th {\n        text-align: right;\n    }\n</style>\n<table border=\"1\" class=\"dataframe\">\n  <thead>\n    <tr style=\"text-align: right;\">\n      <th></th>\n      <th>text</th>\n      <th>cui</th>\n      <th>name</th>\n      <th>start</th>\n      <th>end</th>\n      <th>reaction_pos</th>\n    </tr>\n  </thead>\n  <tbody>\n    <tr>\n      <th>0</th>\n      <td>feeling breathless today.</td>\n      <td>267036007</td>\n      <td>dyspnea</td>\n      <td>8</td>\n      <td>18</td>\n      <td>none</td>\n    </tr>\n    <tr>\n      <th>1</th>\n      <td>allergies: severe severe depression with co-te...</td>\n      <td>310497006</td>\n      <td>severe depression</td>\n      <td>18</td>\n      <td>35</td>\n      <td>before</td>\n    </tr>\n    <tr>\n      <th>2</th>\n      <td>allergies: severe liver palms with cannabidiol.</td>\n      <td>248413004</td>\n      <td>liver palms</td>\n      <td>18</td>\n      <td>29</td>\n      <td>before</td>\n    </tr>\n    <tr>\n      <th>3</th>\n      <td>allergies: severe oral dyspraxia with dapoxetine.</td>\n      <td>361275004</td>\n      <td>oral dyspraxia</td>\n      <td>18</td>\n      <td>32</td>\n      <td>before</td>\n    </tr>\n    <tr>\n      <th>4</th>\n      <td>allergies: severe postcholecystectomy diarrhea...</td>\n      <td>53156005</td>\n      <td>postcholecystectomy diarrhea</td>\n      <td>18</td>\n      <td>46</td>\n      <td>before</td>\n    </tr>\n    <tr>\n      <th>...</th>\n      <td>...</td>\n      <td>...</td>\n      <td>...</td>\n      <td>...</td>\n      <td>...</td>\n      <td>...</td>\n    </tr>\n    <tr>\n      <th>356</th>\n      <td>experienced anaphylaxis with romosozumab</td>\n      <td>39579001</td>\n      <td>anaphylaxis</td>\n      <td>12</td>\n      <td>23</td>\n      <td>before</td>\n    </tr>\n    <tr>\n      <th>357</th>\n      <td>had anaphylaxis due to multivitamin capsules</td>\n      <td>39579001</td>\n      <td>anaphylaxis</td>\n      <td>4</td>\n      <td>15</td>\n      <td>before</td>\n    </tr>\n    <tr>\n      <th>358</th>\n      <td>had anaphylaxis due to homeopathic hamamelis</td>\n      <td>39579001</td>\n      <td>anaphylaxis</td>\n      <td>4</td>\n      <td>15</td>\n      <td>before</td>\n    </tr>\n    <tr>\n      <th>359</th>\n      <td>had anaphylaxis with larvae sterile</td>\n      <td>39579001</td>\n      <td>anaphylaxis</td>\n      <td>4</td>\n      <td>15</td>\n      <td>before</td>\n    </tr>\n    <tr>\n      <th>360</th>\n      <td>experienced anaphylaxis due to ipecacuanha tin...</td>\n      <td>39579001</td>\n      <td>anaphylaxis</td>\n      <td>12</td>\n      <td>23</td>\n      <td>before</td>\n    </tr>\n  </tbody>\n</table>\n<p>361 rows × 6 columns</p>\n</div>"
     },
     "execution_count": 101,
     "metadata": {},
     "output_type": "execute_result"
    }
   ],
   "source": [
    "DATA_DIR = \"../medications_and_allergies/2023-07-19/\"\n",
    "data = pd.read_csv(DATA_DIR + \"/patterns_medallerg.csv\")\n",
    "reactions_df = preprocess_miade_synthetic_data(data, prefix=\"r\")\n",
    "reactions_df"
   ],
   "metadata": {
    "collapsed": false,
    "ExecuteTime": {
     "end_time": "2023-08-17T15:04:31.551013009Z",
     "start_time": "2023-08-17T15:04:31.465575601Z"
    }
   }
  },
  {
   "cell_type": "code",
   "execution_count": 102,
   "outputs": [
    {
     "data": {
      "text/plain": "                                                  text                cui  \\\n0                                  severe egg allergy.          102263004   \n1                               allergic to pineapple.          256313003   \n2                         meds: penicillin v 500mg qds           39359008   \n3    allergies: severe severe depression with co-te...  18037411000001106   \n4      allergies: severe liver palms with cannabidiol.  35022511000001100   \n..                                                 ...                ...   \n558                       not keen on taking alpelisib  38924711000001103   \n559                   not keen on taking selpercatinib  39482711000001104   \n560                not keen on taking kaolin poultices  14614411000001101   \n561                    not keen on taking gilteritinib  37898211000001109   \n562            not keen on taking metronidazole powder  10824711000001106   \n\n                                           name  start  end  \\\n0                                          eggs      7   10   \n1                                     pineapple     12   21   \n2    product containing phenoxymethylpenicillin      6   18   \n3                                   co-tenidone     41   52   \n4                                   cannabidiol     35   46   \n..                                          ...    ...  ...   \n558                                   alpelisib     19   28   \n559                               selpercatinib     19   32   \n560                            kaolin poultices     19   35   \n561                                gilteritinib     19   31   \n562                        metronidazole powder     19   39   \n\n    substance_category allergy_type     severity  \n0     adverse reaction      allergy       severe  \n1     adverse reaction      allergy  unspecified  \n2               taking  unspecified  unspecified  \n3     adverse reaction      allergy       severe  \n4     adverse reaction      allergy       severe  \n..                 ...          ...          ...  \n558         irrelevant          nan          nan  \n559         irrelevant          nan          nan  \n560         irrelevant          nan          nan  \n561         irrelevant          nan          nan  \n562         irrelevant          nan          nan  \n\n[563 rows x 8 columns]",
      "text/html": "<div>\n<style scoped>\n    .dataframe tbody tr th:only-of-type {\n        vertical-align: middle;\n    }\n\n    .dataframe tbody tr th {\n        vertical-align: top;\n    }\n\n    .dataframe thead th {\n        text-align: right;\n    }\n</style>\n<table border=\"1\" class=\"dataframe\">\n  <thead>\n    <tr style=\"text-align: right;\">\n      <th></th>\n      <th>text</th>\n      <th>cui</th>\n      <th>name</th>\n      <th>start</th>\n      <th>end</th>\n      <th>substance_category</th>\n      <th>allergy_type</th>\n      <th>severity</th>\n    </tr>\n  </thead>\n  <tbody>\n    <tr>\n      <th>0</th>\n      <td>severe egg allergy.</td>\n      <td>102263004</td>\n      <td>eggs</td>\n      <td>7</td>\n      <td>10</td>\n      <td>adverse reaction</td>\n      <td>allergy</td>\n      <td>severe</td>\n    </tr>\n    <tr>\n      <th>1</th>\n      <td>allergic to pineapple.</td>\n      <td>256313003</td>\n      <td>pineapple</td>\n      <td>12</td>\n      <td>21</td>\n      <td>adverse reaction</td>\n      <td>allergy</td>\n      <td>unspecified</td>\n    </tr>\n    <tr>\n      <th>2</th>\n      <td>meds: penicillin v 500mg qds</td>\n      <td>39359008</td>\n      <td>product containing phenoxymethylpenicillin</td>\n      <td>6</td>\n      <td>18</td>\n      <td>taking</td>\n      <td>unspecified</td>\n      <td>unspecified</td>\n    </tr>\n    <tr>\n      <th>3</th>\n      <td>allergies: severe severe depression with co-te...</td>\n      <td>18037411000001106</td>\n      <td>co-tenidone</td>\n      <td>41</td>\n      <td>52</td>\n      <td>adverse reaction</td>\n      <td>allergy</td>\n      <td>severe</td>\n    </tr>\n    <tr>\n      <th>4</th>\n      <td>allergies: severe liver palms with cannabidiol.</td>\n      <td>35022511000001100</td>\n      <td>cannabidiol</td>\n      <td>35</td>\n      <td>46</td>\n      <td>adverse reaction</td>\n      <td>allergy</td>\n      <td>severe</td>\n    </tr>\n    <tr>\n      <th>...</th>\n      <td>...</td>\n      <td>...</td>\n      <td>...</td>\n      <td>...</td>\n      <td>...</td>\n      <td>...</td>\n      <td>...</td>\n      <td>...</td>\n    </tr>\n    <tr>\n      <th>558</th>\n      <td>not keen on taking alpelisib</td>\n      <td>38924711000001103</td>\n      <td>alpelisib</td>\n      <td>19</td>\n      <td>28</td>\n      <td>irrelevant</td>\n      <td>nan</td>\n      <td>nan</td>\n    </tr>\n    <tr>\n      <th>559</th>\n      <td>not keen on taking selpercatinib</td>\n      <td>39482711000001104</td>\n      <td>selpercatinib</td>\n      <td>19</td>\n      <td>32</td>\n      <td>irrelevant</td>\n      <td>nan</td>\n      <td>nan</td>\n    </tr>\n    <tr>\n      <th>560</th>\n      <td>not keen on taking kaolin poultices</td>\n      <td>14614411000001101</td>\n      <td>kaolin poultices</td>\n      <td>19</td>\n      <td>35</td>\n      <td>irrelevant</td>\n      <td>nan</td>\n      <td>nan</td>\n    </tr>\n    <tr>\n      <th>561</th>\n      <td>not keen on taking gilteritinib</td>\n      <td>37898211000001109</td>\n      <td>gilteritinib</td>\n      <td>19</td>\n      <td>31</td>\n      <td>irrelevant</td>\n      <td>nan</td>\n      <td>nan</td>\n    </tr>\n    <tr>\n      <th>562</th>\n      <td>not keen on taking metronidazole powder</td>\n      <td>10824711000001106</td>\n      <td>metronidazole powder</td>\n      <td>19</td>\n      <td>39</td>\n      <td>irrelevant</td>\n      <td>nan</td>\n      <td>nan</td>\n    </tr>\n  </tbody>\n</table>\n<p>563 rows × 8 columns</p>\n</div>"
     },
     "execution_count": 102,
     "metadata": {},
     "output_type": "execute_result"
    }
   ],
   "source": [
    "DATA_DIR = \"../medications_and_allergies/2023-07-19/\"\n",
    "data = pd.read_csv(DATA_DIR + \"/patterns_medallerg.csv\")\n",
    "med_allergy_df = preprocess_miade_synthetic_data(data, prefix=\"m\")\n",
    "med_allergy_df"
   ],
   "metadata": {
    "collapsed": false,
    "ExecuteTime": {
     "end_time": "2023-08-17T15:04:32.408403084Z",
     "start_time": "2023-08-17T15:04:32.368021464Z"
    }
   }
  },
  {
   "cell_type": "code",
   "execution_count": 103,
   "outputs": [
    {
     "data": {
      "text/plain": "                                                    text        cui  \\\n0      issue list\\nilio-inguinal nerve entrapment\\npa...   22033007   \n1      diagnosis list :\\ncolitis presumed infectious\\...   89538001   \n2      problems list hypoglossia\\ninjury following al...   31268005   \n3      no open wound of flank without complication . ...  275459007   \n4      differential\\nsuspected corn, diverticulitis o...  253866002   \n...                                                  ...        ...   \n47442  dx :\\nno loeys-dietz syndrome\\n\\n\\nactive meds...   90465004   \n47443  frequent dsap - disseminated superficial actin...   41495000   \n47444  never had splinter in foot . currently on isos...  287121002   \n47445  had anhydramnios\\ndifferential anterior shin s...  201137002   \n47446  issues list :\\nlump in ear canal\\nckd (chronic...  188133005   \n\n                                                 name  start  end relevance  \\\n0                            fetal growth retardation    551  574   present   \n1                   helicobacter-associated gastritis     73  106   present   \n2                            thrombophlebitis migrans    106  130  historic   \n3            open wound of flank without complication      3   43   present   \n4       crossed ectopia of kidney with fusion anomaly     62  107   present   \n...                                               ...    ...  ...       ...   \n47442                         crushing injury of face    174  192   present   \n47443  disseminated superficial actinic porokeratosis      9   62  historic   \n47444                                splinter in foot     10   26  historic   \n47445                                alopecia localis     60   76   present   \n47446         malignant neoplasm of skin of lower leg    199  238  historic   \n\n        presence laterality (generic)  \n0        negated                  nan  \n1      confirmed                  nan  \n2      confirmed                  nan  \n3        negated                  nan  \n4        negated                  nan  \n...          ...                  ...  \n47442  confirmed                  nan  \n47443  confirmed                  nan  \n47444    negated                  nan  \n47445  confirmed                  nan  \n47446  confirmed                  nan  \n\n[47447 rows x 8 columns]",
      "text/html": "<div>\n<style scoped>\n    .dataframe tbody tr th:only-of-type {\n        vertical-align: middle;\n    }\n\n    .dataframe tbody tr th {\n        vertical-align: top;\n    }\n\n    .dataframe thead th {\n        text-align: right;\n    }\n</style>\n<table border=\"1\" class=\"dataframe\">\n  <thead>\n    <tr style=\"text-align: right;\">\n      <th></th>\n      <th>text</th>\n      <th>cui</th>\n      <th>name</th>\n      <th>start</th>\n      <th>end</th>\n      <th>relevance</th>\n      <th>presence</th>\n      <th>laterality (generic)</th>\n    </tr>\n  </thead>\n  <tbody>\n    <tr>\n      <th>0</th>\n      <td>issue list\\nilio-inguinal nerve entrapment\\npa...</td>\n      <td>22033007</td>\n      <td>fetal growth retardation</td>\n      <td>551</td>\n      <td>574</td>\n      <td>present</td>\n      <td>negated</td>\n      <td>nan</td>\n    </tr>\n    <tr>\n      <th>1</th>\n      <td>diagnosis list :\\ncolitis presumed infectious\\...</td>\n      <td>89538001</td>\n      <td>helicobacter-associated gastritis</td>\n      <td>73</td>\n      <td>106</td>\n      <td>present</td>\n      <td>confirmed</td>\n      <td>nan</td>\n    </tr>\n    <tr>\n      <th>2</th>\n      <td>problems list hypoglossia\\ninjury following al...</td>\n      <td>31268005</td>\n      <td>thrombophlebitis migrans</td>\n      <td>106</td>\n      <td>130</td>\n      <td>historic</td>\n      <td>confirmed</td>\n      <td>nan</td>\n    </tr>\n    <tr>\n      <th>3</th>\n      <td>no open wound of flank without complication . ...</td>\n      <td>275459007</td>\n      <td>open wound of flank without complication</td>\n      <td>3</td>\n      <td>43</td>\n      <td>present</td>\n      <td>negated</td>\n      <td>nan</td>\n    </tr>\n    <tr>\n      <th>4</th>\n      <td>differential\\nsuspected corn, diverticulitis o...</td>\n      <td>253866002</td>\n      <td>crossed ectopia of kidney with fusion anomaly</td>\n      <td>62</td>\n      <td>107</td>\n      <td>present</td>\n      <td>negated</td>\n      <td>nan</td>\n    </tr>\n    <tr>\n      <th>...</th>\n      <td>...</td>\n      <td>...</td>\n      <td>...</td>\n      <td>...</td>\n      <td>...</td>\n      <td>...</td>\n      <td>...</td>\n      <td>...</td>\n    </tr>\n    <tr>\n      <th>47442</th>\n      <td>dx :\\nno loeys-dietz syndrome\\n\\n\\nactive meds...</td>\n      <td>90465004</td>\n      <td>crushing injury of face</td>\n      <td>174</td>\n      <td>192</td>\n      <td>present</td>\n      <td>confirmed</td>\n      <td>nan</td>\n    </tr>\n    <tr>\n      <th>47443</th>\n      <td>frequent dsap - disseminated superficial actin...</td>\n      <td>41495000</td>\n      <td>disseminated superficial actinic porokeratosis</td>\n      <td>9</td>\n      <td>62</td>\n      <td>historic</td>\n      <td>confirmed</td>\n      <td>nan</td>\n    </tr>\n    <tr>\n      <th>47444</th>\n      <td>never had splinter in foot . currently on isos...</td>\n      <td>287121002</td>\n      <td>splinter in foot</td>\n      <td>10</td>\n      <td>26</td>\n      <td>historic</td>\n      <td>negated</td>\n      <td>nan</td>\n    </tr>\n    <tr>\n      <th>47445</th>\n      <td>had anhydramnios\\ndifferential anterior shin s...</td>\n      <td>201137002</td>\n      <td>alopecia localis</td>\n      <td>60</td>\n      <td>76</td>\n      <td>present</td>\n      <td>confirmed</td>\n      <td>nan</td>\n    </tr>\n    <tr>\n      <th>47446</th>\n      <td>issues list :\\nlump in ear canal\\nckd (chronic...</td>\n      <td>188133005</td>\n      <td>malignant neoplasm of skin of lower leg</td>\n      <td>199</td>\n      <td>238</td>\n      <td>historic</td>\n      <td>confirmed</td>\n      <td>nan</td>\n    </tr>\n  </tbody>\n</table>\n<p>47447 rows × 8 columns</p>\n</div>"
     },
     "execution_count": 103,
     "metadata": {},
     "output_type": "execute_result"
    }
   ],
   "source": [
    "DATA_DIR = \"../problems/2023-08-09/\"\n",
    "data = pd.read_csv(DATA_DIR + \"patterns_problems.csv\")\n",
    "problems_df = preprocess_miade_synthetic_data(data, prefix=\"p\")\n",
    "problems_df"
   ],
   "metadata": {
    "collapsed": false,
    "ExecuteTime": {
     "end_time": "2023-08-17T15:04:34.015069841Z",
     "start_time": "2023-08-17T15:04:33.379221204Z"
    }
   }
  },
  {
   "cell_type": "code",
   "execution_count": 104,
   "outputs": [],
   "source": [
    "problems_df.to_csv(\"problems_synthetic_train_data.csv\")"
   ],
   "metadata": {
    "collapsed": false,
    "ExecuteTime": {
     "end_time": "2023-08-17T15:04:35.123537844Z",
     "start_time": "2023-08-17T15:04:34.710330395Z"
    }
   }
  },
  {
   "cell_type": "code",
   "execution_count": 105,
   "outputs": [],
   "source": [
    "reactions_df.to_csv(\"reactions_synthetic_train_data.csv\")"
   ],
   "metadata": {
    "collapsed": false,
    "ExecuteTime": {
     "end_time": "2023-08-17T15:04:35.524846813Z",
     "start_time": "2023-08-17T15:04:35.520114044Z"
    }
   }
  },
  {
   "cell_type": "code",
   "execution_count": 106,
   "outputs": [],
   "source": [
    "med_allergy_df.to_csv(\"meds_synthetic_train_data.csv\")"
   ],
   "metadata": {
    "collapsed": false,
    "ExecuteTime": {
     "end_time": "2023-08-17T15:04:36.525507171Z",
     "start_time": "2023-08-17T15:04:36.506840092Z"
    }
   }
  },
  {
   "cell_type": "code",
   "execution_count": null,
   "outputs": [],
   "source": [],
   "metadata": {
    "collapsed": false
   }
  }
 ],
 "metadata": {
  "kernelspec": {
   "display_name": "Python 3 (ipykernel)",
   "language": "python",
   "name": "python3"
  },
  "language_info": {
   "codemirror_mode": {
    "name": "ipython",
    "version": 3
   },
   "file_extension": ".py",
   "mimetype": "text/x-python",
   "name": "python",
   "nbconvert_exporter": "python",
   "pygments_lexer": "ipython3",
   "version": "3.8.17"
  }
 },
 "nbformat": 4,
 "nbformat_minor": 5
}
