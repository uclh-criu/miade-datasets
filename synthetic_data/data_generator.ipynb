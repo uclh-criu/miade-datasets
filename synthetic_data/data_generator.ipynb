{
 "cells": [
  {
   "cell_type": "code",
   "execution_count": 11,
   "outputs": [],
   "source": [
    "import pandas as pd"
   ],
   "metadata": {
    "collapsed": false,
    "ExecuteTime": {
     "end_time": "2023-10-31T14:25:54.145059239Z",
     "start_time": "2023-10-31T14:25:54.091832547Z"
    }
   },
   "id": "8da5b921fc126bfb"
  },
  {
   "cell_type": "code",
   "execution_count": 12,
   "outputs": [],
   "source": [
    "def clean_text_and_return_concept_indices(input_string, meds_allergies=False):\n",
    "\n",
    "    if meds_allergies:\n",
    "        # Find the indices of \"{r ... }\" and \"{m ... }\" pairs\n",
    "        r_start = input_string.find(\"{r \")\n",
    "        r_end = input_string.find(\"}\", r_start)\n",
    "        m_start = input_string.find(\"{m \")\n",
    "        m_end = input_string.find(\"}\", m_start)\n",
    "\n",
    "        # Remove \"{r ... }\" and \"{m ... }\" patterns from the input string\n",
    "        result_string = input_string.replace(\"{r \", \"\").replace(\"}\", \"\").replace(\"{m \", \"\").replace(\"}\", \"\")\n",
    "\n",
    "        # Calculate the start and end indices for \"{m ... }\" pattern\n",
    "        m_end -= 3\n",
    "        r_end -= 3\n",
    "\n",
    "        # Adjust the start and end indices based on the removal of \"{r ... }\" pattern\n",
    "        if r_start != -1 and r_start < m_start:\n",
    "            m_start -= 4  # Account for the removal of \"{r \" and \"}\"\n",
    "            m_end -= 4\n",
    "\n",
    "        if m_start != -1 and m_start < r_start:\n",
    "            r_start -= 4\n",
    "            r_end -= 4\n",
    "\n",
    "        return result_string, m_start, m_end, r_start, r_end\n",
    "    else:\n",
    "        p_start = input_string.find(\"{p \")\n",
    "        p_end = input_string.find(\"}\", p_start)\n",
    "        result_string = input_string.replace(\"{p \", \"\").replace(\"}\", \"\")\n",
    "        p_end -= 3\n",
    "\n",
    "        return result_string, p_start, p_end"
   ],
   "metadata": {
    "collapsed": false,
    "ExecuteTime": {
     "end_time": "2023-10-31T14:25:54.145396275Z",
     "start_time": "2023-10-31T14:25:54.133292726Z"
    }
   },
   "id": "222a2ca9b0f7c10f"
  },
  {
   "cell_type": "code",
   "execution_count": 13,
   "outputs": [],
   "source": [
    "def preprocess_miade_synthetic_data(data, lower_case=True, prefix=\"p\"):\n",
    "    # drop any NaNs in the concepts column\n",
    "    data = data.dropna(subset=[prefix]).reset_index(drop=True)\n",
    "\n",
    "    if lower_case:\n",
    "        data = data.astype(str).apply(lambda x: x.str.lower())  # all lower case\n",
    "\n",
    "    # extract cui and name in separate columns\n",
    "    data[[\"cui\", \"name\"]] = data[prefix].str.extract(r\"^(\\d+)\\s*\\|\\s*(.+)$\")\n",
    "    # remove words inside brackets e.g.(disease)\n",
    "    data[\"name\"].replace(r\"\\s*\\([^)]*\\)\", \"\", regex=True, inplace=True)\n",
    "    # drop the original column\n",
    "    data.drop(prefix, axis=1, inplace=True)\n",
    "    # some entries end with | - remove that\n",
    "    data['name'] = data['name'].str.rstrip('|')\n",
    "\n",
    "    # extract the start and end indices of concept from text and remove the annotations e.g. {p...}\n",
    "    start = []\n",
    "    end = []\n",
    "    text = []\n",
    "    for i in range(len(data)):\n",
    "        if prefix == \"m\":\n",
    "            result, m_start, m_end, r_start, r_end = clean_text_and_return_concept_indices(data.text.values[i], meds_allergies=True)\n",
    "            start.append(m_start)\n",
    "            end.append(m_end)\n",
    "        elif prefix == \"r\":\n",
    "            result, m_start, m_end, r_start, r_end = clean_text_and_return_concept_indices(data.text.values[i], meds_allergies=True)\n",
    "            start.append(r_start)\n",
    "            end.append(r_end)\n",
    "        elif prefix == \"p\":\n",
    "            result, p_start, p_end = clean_text_and_return_concept_indices(data.text.values[i])\n",
    "            start.append(p_start)\n",
    "            end.append(p_end)\n",
    "\n",
    "        text.append(result)\n",
    "\n",
    "    data[\"start\"] = start\n",
    "    data[\"end\"] = end\n",
    "    data[\"text\"] = text\n",
    "\n",
    "    if prefix == \"p\":\n",
    "        # convert labels\n",
    "        data.replace(\"no laterality\", \"none\", inplace=True)\n",
    "        data.replace(\"positive\", \"present\", inplace=True)\n",
    "        # tidy up columns\n",
    "        data.rename(columns={\"p_meta_relevance\": \"relevance\", \"p_meta_confirmed\": \"presence\", \"p_meta_laterality\": \"laterality (generic)\"}, inplace=True)\n",
    "        data = data[[\"text\", \"cui\", \"name\", \"start\", \"end\", \"relevance\", \"presence\", \"laterality (generic)\"]]\n",
    "    elif prefix == \"m\":\n",
    "        data.rename(columns={\"m_meta_category\": \"substance_category\", \"m_meta_allergytype\": \"allergy_type\", \"m_meta_severity\": \"severity\"}, inplace=True)\n",
    "        data = data.fillna(\"unspecified\")\n",
    "        data = data[[\"text\", \"cui\", \"name\", \"start\", \"end\", \"substance_category\", \"allergy_type\", \"severity\"]]\n",
    "    elif prefix == \"r\":\n",
    "        data.replace(\"not a reaction\", \"none\", inplace=True)\n",
    "        data.rename(columns={\"r_meta_reactionpos\": \"reaction_pos\"}, inplace=True)\n",
    "        data = data[[\"text\", \"cui\", \"name\", \"start\", \"end\", \"reaction_pos\"]]\n",
    "\n",
    "\n",
    "    return data"
   ],
   "metadata": {
    "collapsed": false,
    "ExecuteTime": {
     "end_time": "2023-10-31T14:25:54.145600945Z",
     "start_time": "2023-10-31T14:25:54.133668114Z"
    }
   },
   "id": "f3856d6bbe8301bd"
  },
  {
   "cell_type": "code",
   "execution_count": 14,
   "outputs": [],
   "source": [
    "def balance_classes(df, feature_name):\n",
    "    min_size = min(df.groupby([feature_name]).size())\n",
    "    df = df[['text', 'cui', 'name', 'start', 'end', feature_name]]\n",
    "    return pd.concat([\n",
    "        df[\n",
    "            df[feature_name] == class_name\n",
    "        ].iloc[:min_size]\n",
    "        for\n",
    "            class_name\n",
    "        in\n",
    "            df[feature_name].unique()\n",
    "    ])"
   ],
   "metadata": {
    "collapsed": false,
    "ExecuteTime": {
     "end_time": "2023-10-31T14:25:54.145814190Z",
     "start_time": "2023-10-31T14:25:54.133871986Z"
    }
   },
   "id": "54f0a45fe16a39a4"
  },
  {
   "cell_type": "code",
   "execution_count": 15,
   "outputs": [
    {
     "data": {
      "text/plain": "                                                   text        cui  \\\n0     \\ndrug allergies chicken burger - sev neuropat...  300953009   \n1     \\nissues list -\\n6 . vaginal dryness on interc...   71315007   \n2     \\nhistory of presenting complaint dept of disl...  386692008   \n3     he has recently been feeling tension-type head...  398057008   \n4     she experienced nausea and vomiting due to hyo...   16932000   \n...                                                 ...        ...   \n3517  no transitional cell carcinoma of bladder but ...  271807003   \n3518  \\nmedication allergies -\\nclonidine allergy . ...   16844001   \n3519  \\nmed adverse reactions \\nimmunosuppressant al...  163707002   \n3520  \\nmedication adverse reactions \\nglycerol - sc...  161933007   \n3521  allergic to trihexyphenidyl hydrochloride 2 mg...    3424008   \n\n                                      name  start  end reaction_pos  \n0                           pain in axilla    118  131        after  \n1                              dyspareunia    639  648         none  \n2                              menorrhagia    137  160         none  \n3                    tension-type headache     29   50         none  \n4                      nausea and vomiting    182  201        after  \n...                                    ...    ...  ...          ...  \n3517                      eruption of skin    183  187       before  \n3518             painful urging to urinate     65   75        after  \n3519  on examination - paresthesia present     56   92        after  \n3520                         evening cough    119  132        after  \n3521                           tachycardia    348  363         none  \n\n[3522 rows x 6 columns]",
      "text/html": "<div>\n<style scoped>\n    .dataframe tbody tr th:only-of-type {\n        vertical-align: middle;\n    }\n\n    .dataframe tbody tr th {\n        vertical-align: top;\n    }\n\n    .dataframe thead th {\n        text-align: right;\n    }\n</style>\n<table border=\"1\" class=\"dataframe\">\n  <thead>\n    <tr style=\"text-align: right;\">\n      <th></th>\n      <th>text</th>\n      <th>cui</th>\n      <th>name</th>\n      <th>start</th>\n      <th>end</th>\n      <th>reaction_pos</th>\n    </tr>\n  </thead>\n  <tbody>\n    <tr>\n      <th>0</th>\n      <td>\\ndrug allergies chicken burger - sev neuropat...</td>\n      <td>300953009</td>\n      <td>pain in axilla</td>\n      <td>118</td>\n      <td>131</td>\n      <td>after</td>\n    </tr>\n    <tr>\n      <th>1</th>\n      <td>\\nissues list -\\n6 . vaginal dryness on interc...</td>\n      <td>71315007</td>\n      <td>dyspareunia</td>\n      <td>639</td>\n      <td>648</td>\n      <td>none</td>\n    </tr>\n    <tr>\n      <th>2</th>\n      <td>\\nhistory of presenting complaint dept of disl...</td>\n      <td>386692008</td>\n      <td>menorrhagia</td>\n      <td>137</td>\n      <td>160</td>\n      <td>none</td>\n    </tr>\n    <tr>\n      <th>3</th>\n      <td>he has recently been feeling tension-type head...</td>\n      <td>398057008</td>\n      <td>tension-type headache</td>\n      <td>29</td>\n      <td>50</td>\n      <td>none</td>\n    </tr>\n    <tr>\n      <th>4</th>\n      <td>she experienced nausea and vomiting due to hyo...</td>\n      <td>16932000</td>\n      <td>nausea and vomiting</td>\n      <td>182</td>\n      <td>201</td>\n      <td>after</td>\n    </tr>\n    <tr>\n      <th>...</th>\n      <td>...</td>\n      <td>...</td>\n      <td>...</td>\n      <td>...</td>\n      <td>...</td>\n      <td>...</td>\n    </tr>\n    <tr>\n      <th>3517</th>\n      <td>no transitional cell carcinoma of bladder but ...</td>\n      <td>271807003</td>\n      <td>eruption of skin</td>\n      <td>183</td>\n      <td>187</td>\n      <td>before</td>\n    </tr>\n    <tr>\n      <th>3518</th>\n      <td>\\nmedication allergies -\\nclonidine allergy . ...</td>\n      <td>16844001</td>\n      <td>painful urging to urinate</td>\n      <td>65</td>\n      <td>75</td>\n      <td>after</td>\n    </tr>\n    <tr>\n      <th>3519</th>\n      <td>\\nmed adverse reactions \\nimmunosuppressant al...</td>\n      <td>163707002</td>\n      <td>on examination - paresthesia present</td>\n      <td>56</td>\n      <td>92</td>\n      <td>after</td>\n    </tr>\n    <tr>\n      <th>3520</th>\n      <td>\\nmedication adverse reactions \\nglycerol - sc...</td>\n      <td>161933007</td>\n      <td>evening cough</td>\n      <td>119</td>\n      <td>132</td>\n      <td>after</td>\n    </tr>\n    <tr>\n      <th>3521</th>\n      <td>allergic to trihexyphenidyl hydrochloride 2 mg...</td>\n      <td>3424008</td>\n      <td>tachycardia</td>\n      <td>348</td>\n      <td>363</td>\n      <td>none</td>\n    </tr>\n  </tbody>\n</table>\n<p>3522 rows × 6 columns</p>\n</div>"
     },
     "execution_count": 15,
     "metadata": {},
     "output_type": "execute_result"
    }
   ],
   "source": [
    "DATA_DIR = \"../cdb_and_model_files_sep_2023/\"\n",
    "data = pd.read_csv(DATA_DIR + \"/patterns_medallerg.csv\")\n",
    "reactions_df = preprocess_miade_synthetic_data(data, prefix=\"r\")\n",
    "reactions_df"
   ],
   "metadata": {
    "collapsed": false,
    "ExecuteTime": {
     "end_time": "2023-10-31T14:25:54.248433018Z",
     "start_time": "2023-10-31T14:25:54.133990691Z"
    }
   },
   "id": "a8306e65c6a46799"
  },
  {
   "cell_type": "code",
   "execution_count": 16,
   "outputs": [],
   "source": [
    "DATA_DIR = \"../cdb_and_model_files_sep_2023/\"\n",
    "data = pd.read_csv(DATA_DIR + \"/patterns_medallerg.csv\")\n",
    "med_allergy_df = preprocess_miade_synthetic_data(data, prefix=\"m\")\n",
    "\n",
    "allergy_severity_df = balance_classes(med_allergy_df, 'severity')\n",
    "substance_category_df = balance_classes(med_allergy_df, 'substance_category')\n",
    "allergy_type_df = balance_classes(med_allergy_df, 'allergy_type')"
   ],
   "metadata": {
    "collapsed": false,
    "ExecuteTime": {
     "end_time": "2023-10-31T14:25:54.560375150Z",
     "start_time": "2023-10-31T14:25:54.249943418Z"
    }
   },
   "id": "c6e7e57e6ba3b84c"
  },
  {
   "cell_type": "code",
   "execution_count": 17,
   "outputs": [
    {
     "data": {
      "text/plain": "                                                    text        cui  \\\n0      issue list\\nilio-inguinal nerve entrapment\\npa...   22033007   \n1      diagnosis list :\\ncolitis presumed infectious\\...   89538001   \n2      problems list hypoglossia\\ninjury following al...   31268005   \n3      no open wound of flank without complication . ...  275459007   \n4      differential\\nsuspected corn, diverticulitis o...  253866002   \n...                                                  ...        ...   \n47442  dx :\\nno loeys-dietz syndrome\\n\\n\\nactive meds...   90465004   \n47443  frequent dsap - disseminated superficial actin...   41495000   \n47444  never had splinter in foot . currently on isos...  287121002   \n47445  had anhydramnios\\ndifferential anterior shin s...  201137002   \n47446  issues list :\\nlump in ear canal\\nckd (chronic...  188133005   \n\n                                                 name  start  end relevance  \\\n0                            fetal growth retardation    551  574   present   \n1                   helicobacter-associated gastritis     73  106   present   \n2                            thrombophlebitis migrans    106  130  historic   \n3            open wound of flank without complication      3   43   present   \n4       crossed ectopia of kidney with fusion anomaly     62  107   present   \n...                                               ...    ...  ...       ...   \n47442                         crushing injury of face    174  192   present   \n47443  disseminated superficial actinic porokeratosis      9   62  historic   \n47444                                splinter in foot     10   26  historic   \n47445                                alopecia localis     60   76   present   \n47446         malignant neoplasm of skin of lower leg    199  238  historic   \n\n        presence laterality (generic)  \n0        negated                  nan  \n1      confirmed                  nan  \n2      confirmed                  nan  \n3        negated                  nan  \n4        negated                  nan  \n...          ...                  ...  \n47442  confirmed                  nan  \n47443  confirmed                  nan  \n47444    negated                  nan  \n47445  confirmed                  nan  \n47446  confirmed                  nan  \n\n[47447 rows x 8 columns]",
      "text/html": "<div>\n<style scoped>\n    .dataframe tbody tr th:only-of-type {\n        vertical-align: middle;\n    }\n\n    .dataframe tbody tr th {\n        vertical-align: top;\n    }\n\n    .dataframe thead th {\n        text-align: right;\n    }\n</style>\n<table border=\"1\" class=\"dataframe\">\n  <thead>\n    <tr style=\"text-align: right;\">\n      <th></th>\n      <th>text</th>\n      <th>cui</th>\n      <th>name</th>\n      <th>start</th>\n      <th>end</th>\n      <th>relevance</th>\n      <th>presence</th>\n      <th>laterality (generic)</th>\n    </tr>\n  </thead>\n  <tbody>\n    <tr>\n      <th>0</th>\n      <td>issue list\\nilio-inguinal nerve entrapment\\npa...</td>\n      <td>22033007</td>\n      <td>fetal growth retardation</td>\n      <td>551</td>\n      <td>574</td>\n      <td>present</td>\n      <td>negated</td>\n      <td>nan</td>\n    </tr>\n    <tr>\n      <th>1</th>\n      <td>diagnosis list :\\ncolitis presumed infectious\\...</td>\n      <td>89538001</td>\n      <td>helicobacter-associated gastritis</td>\n      <td>73</td>\n      <td>106</td>\n      <td>present</td>\n      <td>confirmed</td>\n      <td>nan</td>\n    </tr>\n    <tr>\n      <th>2</th>\n      <td>problems list hypoglossia\\ninjury following al...</td>\n      <td>31268005</td>\n      <td>thrombophlebitis migrans</td>\n      <td>106</td>\n      <td>130</td>\n      <td>historic</td>\n      <td>confirmed</td>\n      <td>nan</td>\n    </tr>\n    <tr>\n      <th>3</th>\n      <td>no open wound of flank without complication . ...</td>\n      <td>275459007</td>\n      <td>open wound of flank without complication</td>\n      <td>3</td>\n      <td>43</td>\n      <td>present</td>\n      <td>negated</td>\n      <td>nan</td>\n    </tr>\n    <tr>\n      <th>4</th>\n      <td>differential\\nsuspected corn, diverticulitis o...</td>\n      <td>253866002</td>\n      <td>crossed ectopia of kidney with fusion anomaly</td>\n      <td>62</td>\n      <td>107</td>\n      <td>present</td>\n      <td>negated</td>\n      <td>nan</td>\n    </tr>\n    <tr>\n      <th>...</th>\n      <td>...</td>\n      <td>...</td>\n      <td>...</td>\n      <td>...</td>\n      <td>...</td>\n      <td>...</td>\n      <td>...</td>\n      <td>...</td>\n    </tr>\n    <tr>\n      <th>47442</th>\n      <td>dx :\\nno loeys-dietz syndrome\\n\\n\\nactive meds...</td>\n      <td>90465004</td>\n      <td>crushing injury of face</td>\n      <td>174</td>\n      <td>192</td>\n      <td>present</td>\n      <td>confirmed</td>\n      <td>nan</td>\n    </tr>\n    <tr>\n      <th>47443</th>\n      <td>frequent dsap - disseminated superficial actin...</td>\n      <td>41495000</td>\n      <td>disseminated superficial actinic porokeratosis</td>\n      <td>9</td>\n      <td>62</td>\n      <td>historic</td>\n      <td>confirmed</td>\n      <td>nan</td>\n    </tr>\n    <tr>\n      <th>47444</th>\n      <td>never had splinter in foot . currently on isos...</td>\n      <td>287121002</td>\n      <td>splinter in foot</td>\n      <td>10</td>\n      <td>26</td>\n      <td>historic</td>\n      <td>negated</td>\n      <td>nan</td>\n    </tr>\n    <tr>\n      <th>47445</th>\n      <td>had anhydramnios\\ndifferential anterior shin s...</td>\n      <td>201137002</td>\n      <td>alopecia localis</td>\n      <td>60</td>\n      <td>76</td>\n      <td>present</td>\n      <td>confirmed</td>\n      <td>nan</td>\n    </tr>\n    <tr>\n      <th>47446</th>\n      <td>issues list :\\nlump in ear canal\\nckd (chronic...</td>\n      <td>188133005</td>\n      <td>malignant neoplasm of skin of lower leg</td>\n      <td>199</td>\n      <td>238</td>\n      <td>historic</td>\n      <td>confirmed</td>\n      <td>nan</td>\n    </tr>\n  </tbody>\n</table>\n<p>47447 rows × 8 columns</p>\n</div>"
     },
     "execution_count": 17,
     "metadata": {},
     "output_type": "execute_result"
    }
   ],
   "source": [
    "DATA_DIR = \"../problems/2023-08-09/\"\n",
    "data = pd.read_csv(DATA_DIR + \"patterns_problems.csv\")\n",
    "problems_df = preprocess_miade_synthetic_data(data, prefix=\"p\")\n",
    "problems_df"
   ],
   "metadata": {
    "collapsed": false,
    "ExecuteTime": {
     "end_time": "2023-10-31T14:25:55.381907553Z",
     "start_time": "2023-10-31T14:25:54.560997565Z"
    }
   },
   "id": "1169da3cd3994ceb"
  },
  {
   "cell_type": "code",
   "execution_count": 18,
   "outputs": [],
   "source": [
    "problems_df.to_csv(\"problems_synthetic_train_data.csv\")"
   ],
   "metadata": {
    "collapsed": false,
    "ExecuteTime": {
     "end_time": "2023-10-31T14:25:55.752029996Z",
     "start_time": "2023-10-31T14:25:55.381560923Z"
    }
   },
   "id": "dd91366b6d148b74"
  },
  {
   "cell_type": "code",
   "execution_count": 19,
   "outputs": [],
   "source": [
    "reactions_df.to_csv(\"reactions_synthetic_train_data.csv\")"
   ],
   "metadata": {
    "collapsed": false,
    "ExecuteTime": {
     "end_time": "2023-10-31T14:25:55.789509588Z",
     "start_time": "2023-10-31T14:25:55.752237040Z"
    }
   },
   "id": "61dd1b04fbee19b7"
  },
  {
   "cell_type": "code",
   "execution_count": 20,
   "outputs": [],
   "source": [
    "med_allergy_df.to_csv(\"meds_synthetic_train_data.csv\")\n",
    "allergy_severity_df.to_csv(\"allergy_severity_synthetic_train_data.csv\")\n",
    "substance_category_df.to_csv(\"substance_category_synthetic_train_data.csv\")\n",
    "allergy_type_df.to_csv(\"allergy_type_synthetic_train_data.csv\")"
   ],
   "metadata": {
    "collapsed": false,
    "ExecuteTime": {
     "end_time": "2023-10-31T14:25:55.956408309Z",
     "start_time": "2023-10-31T14:25:55.781724616Z"
    }
   },
   "id": "da3c5605c043824b"
  }
 ],
 "metadata": {
  "kernelspec": {
   "display_name": "Python 3 (ipykernel)",
   "language": "python",
   "name": "python3"
  },
  "language_info": {
   "codemirror_mode": {
    "name": "ipython",
    "version": 3
   },
   "file_extension": ".py",
   "mimetype": "text/x-python",
   "name": "python",
   "nbconvert_exporter": "python",
   "pygments_lexer": "ipython3",
   "version": "3.8.17"
  }
 },
 "nbformat": 4,
 "nbformat_minor": 5
}
