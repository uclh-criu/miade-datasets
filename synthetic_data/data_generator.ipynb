{
 "cells": [
  {
   "cell_type": "code",
   "execution_count": 71,
   "outputs": [],
   "source": [
    "import pandas as pd"
   ],
   "metadata": {
    "collapsed": false,
    "ExecuteTime": {
     "end_time": "2023-09-06T09:25:50.564144727Z",
     "start_time": "2023-09-06T09:25:50.497463243Z"
    }
   }
  },
  {
   "cell_type": "code",
   "execution_count": 72,
   "outputs": [],
   "source": [
    "def clean_text_and_return_concept_indices(input_string, meds_allergies=False):\n",
    "\n",
    "    if meds_allergies:\n",
    "        # Find the indices of \"{r ... }\" and \"{m ... }\" pairs\n",
    "        r_start = input_string.find(\"{r \")\n",
    "        r_end = input_string.find(\"}\", r_start)\n",
    "        m_start = input_string.find(\"{m \")\n",
    "        m_end = input_string.find(\"}\", m_start)\n",
    "\n",
    "        # Remove \"{r ... }\" and \"{m ... }\" patterns from the input string\n",
    "        result_string = input_string.replace(\"{r \", \"\").replace(\"}\", \"\").replace(\"{m \", \"\").replace(\"}\", \"\")\n",
    "\n",
    "        # Calculate the start and end indices for \"{m ... }\" pattern\n",
    "        m_end -= 3\n",
    "        r_end -= 3\n",
    "\n",
    "        # Adjust the start and end indices based on the removal of \"{r ... }\" pattern\n",
    "        if r_start != -1 and r_start < m_start:\n",
    "            m_start -= 4  # Account for the removal of \"{r \" and \"}\"\n",
    "            m_end -= 4\n",
    "\n",
    "        if m_start != -1 and m_start < r_start:\n",
    "            r_start -= 4\n",
    "            r_end -= 4\n",
    "\n",
    "        return result_string, m_start, m_end, r_start, r_end\n",
    "    else:\n",
    "        p_start = input_string.find(\"{p \")\n",
    "        p_end = input_string.find(\"}\", p_start)\n",
    "        result_string = input_string.replace(\"{p \", \"\").replace(\"}\", \"\")\n",
    "        p_end -= 3\n",
    "\n",
    "        return result_string, p_start, p_end"
   ],
   "metadata": {
    "collapsed": false,
    "ExecuteTime": {
     "end_time": "2023-09-06T09:25:50.564668865Z",
     "start_time": "2023-09-06T09:25:50.537923120Z"
    }
   }
  },
  {
   "cell_type": "code",
   "execution_count": 73,
   "outputs": [],
   "source": [
    "def preprocess_miade_synthetic_data(data, lower_case=True, prefix=\"p\"):\n",
    "    # drop any NaNs in the concepts column\n",
    "    data = data.dropna(subset=[prefix]).reset_index(drop=True)\n",
    "\n",
    "    if lower_case:\n",
    "        data = data.astype(str).apply(lambda x: x.str.lower())  # all lower case\n",
    "\n",
    "    # extract cui and name in separate columns\n",
    "    data[[\"cui\", \"name\"]] = data[prefix].str.extract(r\"^(\\d+)\\s*\\|\\s*(.+)$\")\n",
    "    # remove words inside brackets e.g.(disease)\n",
    "    data[\"name\"].replace(r\"\\s*\\([^)]*\\)\", \"\", regex=True, inplace=True)\n",
    "    # drop the original column\n",
    "    data.drop(prefix, axis=1, inplace=True)\n",
    "    # some entries end with | - remove that\n",
    "    data['name'] = data['name'].str.rstrip('|')\n",
    "\n",
    "    # extract the start and end indices of concept from text and remove the annotations e.g. {p...}\n",
    "    start = []\n",
    "    end = []\n",
    "    text = []\n",
    "    for i in range(len(data)):\n",
    "        if prefix == \"m\":\n",
    "            result, m_start, m_end, r_start, r_end = clean_text_and_return_concept_indices(data.text.values[i], meds_allergies=True)\n",
    "            start.append(m_start)\n",
    "            end.append(m_end)\n",
    "        elif prefix == \"r\":\n",
    "            result, m_start, m_end, r_start, r_end = clean_text_and_return_concept_indices(data.text.values[i], meds_allergies=True)\n",
    "            start.append(r_start)\n",
    "            end.append(r_end)\n",
    "        elif prefix == \"p\":\n",
    "            result, p_start, p_end = clean_text_and_return_concept_indices(data.text.values[i])\n",
    "            start.append(p_start)\n",
    "            end.append(p_end)\n",
    "\n",
    "        text.append(result)\n",
    "\n",
    "    data[\"start\"] = start\n",
    "    data[\"end\"] = end\n",
    "    data[\"text\"] = text\n",
    "\n",
    "    if prefix == \"p\":\n",
    "        # convert labels\n",
    "        data.replace(\"no laterality\", \"none\", inplace=True)\n",
    "        data.replace(\"positive\", \"present\", inplace=True)\n",
    "        # tidy up columns\n",
    "        data.rename(columns={\"p_meta_relevance\": \"relevance\", \"p_meta_confirmed\": \"presence\", \"p_meta_laterality\": \"laterality (generic)\"}, inplace=True)\n",
    "        data = data[[\"text\", \"cui\", \"name\", \"start\", \"end\", \"relevance\", \"presence\", \"laterality (generic)\"]]\n",
    "    elif prefix == \"m\":\n",
    "        data.rename(columns={\"m_meta_category\": \"substance_category\", \"m_meta_allergytype\": \"allergy_type\", \"m_meta_severity\": \"severity\"}, inplace=True)\n",
    "        data = data.fillna(\"unspecified\")\n",
    "        data = data[[\"text\", \"cui\", \"name\", \"start\", \"end\", \"substance_category\", \"allergy_type\", \"severity\"]]\n",
    "    elif prefix == \"r\":\n",
    "        data.replace(\"not a reaction\", \"none\", inplace=True)\n",
    "        data.rename(columns={\"r_meta_reactionpos\": \"reaction_pos\"}, inplace=True)\n",
    "        data = data[[\"text\", \"cui\", \"name\", \"start\", \"end\", \"reaction_pos\"]]\n",
    "\n",
    "\n",
    "    return data"
   ],
   "metadata": {
    "collapsed": false,
    "ExecuteTime": {
     "end_time": "2023-09-06T09:25:50.564896832Z",
     "start_time": "2023-09-06T09:25:50.538377694Z"
    }
   }
  },
  {
   "cell_type": "code",
   "execution_count": 74,
   "outputs": [],
   "source": [
    "def balance_classes(df, feature_name):\n",
    "    min_size = min(df.groupby([feature_name]).size())\n",
    "    df = df[['text', 'cui', 'name', 'start', 'end', feature_name]]\n",
    "    return pd.concat([\n",
    "        df[\n",
    "            df[feature_name] == class_name\n",
    "        ].iloc[:min_size]\n",
    "        for\n",
    "            class_name\n",
    "        in\n",
    "            df[feature_name].unique()\n",
    "    ])"
   ],
   "metadata": {
    "collapsed": false,
    "ExecuteTime": {
     "end_time": "2023-09-06T09:25:50.565119388Z",
     "start_time": "2023-09-06T09:25:50.538786127Z"
    }
   }
  },
  {
   "cell_type": "code",
   "execution_count": 82,
   "outputs": [
    {
     "data": {
      "text/plain": "                                                    text        cui  \\\n0      no personal hist hernia . taking promazine 50m...  197118003   \n1      diag list :\\nhyperhidrosis of palms\\ntinea ami...  200963002   \n2      problem is sciatic nerve lesion\\ndiag : snake ...   67233009   \n3      attended clinic today with her grandmother . h...   65124004   \n4      diag : conductive hearing loss,\\nincomplete ri...   39579001   \n...                                                  ...        ...   \n15069  on examination - bladder not palpable . intole...  162031009   \n15070  no cyst of semilunar cartilage or morbid obesi...   95655001   \n15071  family history of cocaine-induced psychosis .\\...   68962001   \n15072  feeling unwell today., standard chest x-ray re...        NaN   \n15073  feeling unwell today. .\\nnot keen on taking po...   62315008   \n\n                            name  start  end reaction_pos  \n0      constipation - functional    246  269       before  \n1            psoriasis circinata    344  363         none  \n2                middle insomnia    335  352       before  \n3                       swelling    243  251       before  \n4                    anaphylaxis    169  180        after  \n...                          ...    ...  ...          ...  \n15069                indigestion     98  109        after  \n15070        ophthalmic migraine    209  228       before  \n15071                muscle pain     55   64       before  \n15072                        NaN     -1   -4         none  \n15073                   diarrhea    129  138        after  \n\n[15074 rows x 6 columns]",
      "text/html": "<div>\n<style scoped>\n    .dataframe tbody tr th:only-of-type {\n        vertical-align: middle;\n    }\n\n    .dataframe tbody tr th {\n        vertical-align: top;\n    }\n\n    .dataframe thead th {\n        text-align: right;\n    }\n</style>\n<table border=\"1\" class=\"dataframe\">\n  <thead>\n    <tr style=\"text-align: right;\">\n      <th></th>\n      <th>text</th>\n      <th>cui</th>\n      <th>name</th>\n      <th>start</th>\n      <th>end</th>\n      <th>reaction_pos</th>\n    </tr>\n  </thead>\n  <tbody>\n    <tr>\n      <th>0</th>\n      <td>no personal hist hernia . taking promazine 50m...</td>\n      <td>197118003</td>\n      <td>constipation - functional</td>\n      <td>246</td>\n      <td>269</td>\n      <td>before</td>\n    </tr>\n    <tr>\n      <th>1</th>\n      <td>diag list :\\nhyperhidrosis of palms\\ntinea ami...</td>\n      <td>200963002</td>\n      <td>psoriasis circinata</td>\n      <td>344</td>\n      <td>363</td>\n      <td>none</td>\n    </tr>\n    <tr>\n      <th>2</th>\n      <td>problem is sciatic nerve lesion\\ndiag : snake ...</td>\n      <td>67233009</td>\n      <td>middle insomnia</td>\n      <td>335</td>\n      <td>352</td>\n      <td>before</td>\n    </tr>\n    <tr>\n      <th>3</th>\n      <td>attended clinic today with her grandmother . h...</td>\n      <td>65124004</td>\n      <td>swelling</td>\n      <td>243</td>\n      <td>251</td>\n      <td>before</td>\n    </tr>\n    <tr>\n      <th>4</th>\n      <td>diag : conductive hearing loss,\\nincomplete ri...</td>\n      <td>39579001</td>\n      <td>anaphylaxis</td>\n      <td>169</td>\n      <td>180</td>\n      <td>after</td>\n    </tr>\n    <tr>\n      <th>...</th>\n      <td>...</td>\n      <td>...</td>\n      <td>...</td>\n      <td>...</td>\n      <td>...</td>\n      <td>...</td>\n    </tr>\n    <tr>\n      <th>15069</th>\n      <td>on examination - bladder not palpable . intole...</td>\n      <td>162031009</td>\n      <td>indigestion</td>\n      <td>98</td>\n      <td>109</td>\n      <td>after</td>\n    </tr>\n    <tr>\n      <th>15070</th>\n      <td>no cyst of semilunar cartilage or morbid obesi...</td>\n      <td>95655001</td>\n      <td>ophthalmic migraine</td>\n      <td>209</td>\n      <td>228</td>\n      <td>before</td>\n    </tr>\n    <tr>\n      <th>15071</th>\n      <td>family history of cocaine-induced psychosis .\\...</td>\n      <td>68962001</td>\n      <td>muscle pain</td>\n      <td>55</td>\n      <td>64</td>\n      <td>before</td>\n    </tr>\n    <tr>\n      <th>15072</th>\n      <td>feeling unwell today., standard chest x-ray re...</td>\n      <td>NaN</td>\n      <td>NaN</td>\n      <td>-1</td>\n      <td>-4</td>\n      <td>none</td>\n    </tr>\n    <tr>\n      <th>15073</th>\n      <td>feeling unwell today. .\\nnot keen on taking po...</td>\n      <td>62315008</td>\n      <td>diarrhea</td>\n      <td>129</td>\n      <td>138</td>\n      <td>after</td>\n    </tr>\n  </tbody>\n</table>\n<p>15074 rows × 6 columns</p>\n</div>"
     },
     "execution_count": 82,
     "metadata": {},
     "output_type": "execute_result"
    }
   ],
   "source": [
    "DATA_DIR = \"../medications_and_allergies/2023-08-09/\"\n",
    "data = pd.read_csv(DATA_DIR + \"/patterns_medallerg.csv\")\n",
    "reactions_df = preprocess_miade_synthetic_data(data, prefix=\"r\")\n",
    "reactions_df"
   ],
   "metadata": {
    "collapsed": false,
    "ExecuteTime": {
     "end_time": "2023-09-06T09:28:50.167660116Z",
     "start_time": "2023-09-06T09:28:49.346674505Z"
    }
   }
  },
  {
   "cell_type": "code",
   "execution_count": 83,
   "outputs": [],
   "source": [
    "DATA_DIR = \"../medications_and_allergies/2023-08-09/\"\n",
    "data = pd.read_csv(DATA_DIR + \"/patterns_medallerg.csv\")\n",
    "med_allergy_df = preprocess_miade_synthetic_data(data, prefix=\"m\")\n",
    "\n",
    "allergy_severity_df = balance_classes(med_allergy_df, 'severity')\n",
    "substance_category_df = balance_classes(med_allergy_df, 'substance_category')\n",
    "allergy_type_df = balance_classes(med_allergy_df, 'allergy_type')"
   ],
   "metadata": {
    "collapsed": false,
    "ExecuteTime": {
     "end_time": "2023-09-06T09:29:12.253102220Z",
     "start_time": "2023-09-06T09:29:10.816581375Z"
    }
   }
  },
  {
   "cell_type": "code",
   "execution_count": 84,
   "outputs": [
    {
     "data": {
      "text/plain": "                                                    text        cui  \\\n0      issue list\\nilio-inguinal nerve entrapment\\npa...   22033007   \n1      diagnosis list :\\ncolitis presumed infectious\\...   89538001   \n2      problems list hypoglossia\\ninjury following al...   31268005   \n3      no open wound of flank without complication . ...  275459007   \n4      differential\\nsuspected corn, diverticulitis o...  253866002   \n...                                                  ...        ...   \n47442  dx :\\nno loeys-dietz syndrome\\n\\n\\nactive meds...   90465004   \n47443  frequent dsap - disseminated superficial actin...   41495000   \n47444  never had splinter in foot . currently on isos...  287121002   \n47445  had anhydramnios\\ndifferential anterior shin s...  201137002   \n47446  issues list :\\nlump in ear canal\\nckd (chronic...  188133005   \n\n                                                 name  start  end relevance  \\\n0                            fetal growth retardation    551  574   present   \n1                   helicobacter-associated gastritis     73  106   present   \n2                            thrombophlebitis migrans    106  130  historic   \n3            open wound of flank without complication      3   43   present   \n4       crossed ectopia of kidney with fusion anomaly     62  107   present   \n...                                               ...    ...  ...       ...   \n47442                         crushing injury of face    174  192   present   \n47443  disseminated superficial actinic porokeratosis      9   62  historic   \n47444                                splinter in foot     10   26  historic   \n47445                                alopecia localis     60   76   present   \n47446         malignant neoplasm of skin of lower leg    199  238  historic   \n\n        presence laterality (generic)  \n0        negated                  nan  \n1      confirmed                  nan  \n2      confirmed                  nan  \n3        negated                  nan  \n4        negated                  nan  \n...          ...                  ...  \n47442  confirmed                  nan  \n47443  confirmed                  nan  \n47444    negated                  nan  \n47445  confirmed                  nan  \n47446  confirmed                  nan  \n\n[47447 rows x 8 columns]",
      "text/html": "<div>\n<style scoped>\n    .dataframe tbody tr th:only-of-type {\n        vertical-align: middle;\n    }\n\n    .dataframe tbody tr th {\n        vertical-align: top;\n    }\n\n    .dataframe thead th {\n        text-align: right;\n    }\n</style>\n<table border=\"1\" class=\"dataframe\">\n  <thead>\n    <tr style=\"text-align: right;\">\n      <th></th>\n      <th>text</th>\n      <th>cui</th>\n      <th>name</th>\n      <th>start</th>\n      <th>end</th>\n      <th>relevance</th>\n      <th>presence</th>\n      <th>laterality (generic)</th>\n    </tr>\n  </thead>\n  <tbody>\n    <tr>\n      <th>0</th>\n      <td>issue list\\nilio-inguinal nerve entrapment\\npa...</td>\n      <td>22033007</td>\n      <td>fetal growth retardation</td>\n      <td>551</td>\n      <td>574</td>\n      <td>present</td>\n      <td>negated</td>\n      <td>nan</td>\n    </tr>\n    <tr>\n      <th>1</th>\n      <td>diagnosis list :\\ncolitis presumed infectious\\...</td>\n      <td>89538001</td>\n      <td>helicobacter-associated gastritis</td>\n      <td>73</td>\n      <td>106</td>\n      <td>present</td>\n      <td>confirmed</td>\n      <td>nan</td>\n    </tr>\n    <tr>\n      <th>2</th>\n      <td>problems list hypoglossia\\ninjury following al...</td>\n      <td>31268005</td>\n      <td>thrombophlebitis migrans</td>\n      <td>106</td>\n      <td>130</td>\n      <td>historic</td>\n      <td>confirmed</td>\n      <td>nan</td>\n    </tr>\n    <tr>\n      <th>3</th>\n      <td>no open wound of flank without complication . ...</td>\n      <td>275459007</td>\n      <td>open wound of flank without complication</td>\n      <td>3</td>\n      <td>43</td>\n      <td>present</td>\n      <td>negated</td>\n      <td>nan</td>\n    </tr>\n    <tr>\n      <th>4</th>\n      <td>differential\\nsuspected corn, diverticulitis o...</td>\n      <td>253866002</td>\n      <td>crossed ectopia of kidney with fusion anomaly</td>\n      <td>62</td>\n      <td>107</td>\n      <td>present</td>\n      <td>negated</td>\n      <td>nan</td>\n    </tr>\n    <tr>\n      <th>...</th>\n      <td>...</td>\n      <td>...</td>\n      <td>...</td>\n      <td>...</td>\n      <td>...</td>\n      <td>...</td>\n      <td>...</td>\n      <td>...</td>\n    </tr>\n    <tr>\n      <th>47442</th>\n      <td>dx :\\nno loeys-dietz syndrome\\n\\n\\nactive meds...</td>\n      <td>90465004</td>\n      <td>crushing injury of face</td>\n      <td>174</td>\n      <td>192</td>\n      <td>present</td>\n      <td>confirmed</td>\n      <td>nan</td>\n    </tr>\n    <tr>\n      <th>47443</th>\n      <td>frequent dsap - disseminated superficial actin...</td>\n      <td>41495000</td>\n      <td>disseminated superficial actinic porokeratosis</td>\n      <td>9</td>\n      <td>62</td>\n      <td>historic</td>\n      <td>confirmed</td>\n      <td>nan</td>\n    </tr>\n    <tr>\n      <th>47444</th>\n      <td>never had splinter in foot . currently on isos...</td>\n      <td>287121002</td>\n      <td>splinter in foot</td>\n      <td>10</td>\n      <td>26</td>\n      <td>historic</td>\n      <td>negated</td>\n      <td>nan</td>\n    </tr>\n    <tr>\n      <th>47445</th>\n      <td>had anhydramnios\\ndifferential anterior shin s...</td>\n      <td>201137002</td>\n      <td>alopecia localis</td>\n      <td>60</td>\n      <td>76</td>\n      <td>present</td>\n      <td>confirmed</td>\n      <td>nan</td>\n    </tr>\n    <tr>\n      <th>47446</th>\n      <td>issues list :\\nlump in ear canal\\nckd (chronic...</td>\n      <td>188133005</td>\n      <td>malignant neoplasm of skin of lower leg</td>\n      <td>199</td>\n      <td>238</td>\n      <td>historic</td>\n      <td>confirmed</td>\n      <td>nan</td>\n    </tr>\n  </tbody>\n</table>\n<p>47447 rows × 8 columns</p>\n</div>"
     },
     "execution_count": 84,
     "metadata": {},
     "output_type": "execute_result"
    }
   ],
   "source": [
    "DATA_DIR = \"../problems/2023-08-09/\"\n",
    "data = pd.read_csv(DATA_DIR + \"patterns_problems.csv\")\n",
    "problems_df = preprocess_miade_synthetic_data(data, prefix=\"p\")\n",
    "problems_df"
   ],
   "metadata": {
    "collapsed": false,
    "ExecuteTime": {
     "end_time": "2023-09-06T09:29:14.722993026Z",
     "start_time": "2023-09-06T09:29:12.964229360Z"
    }
   }
  },
  {
   "cell_type": "code",
   "execution_count": 85,
   "outputs": [],
   "source": [
    "problems_df.to_csv(\"problems_synthetic_train_data.csv\")"
   ],
   "metadata": {
    "collapsed": false,
    "ExecuteTime": {
     "end_time": "2023-09-06T09:29:15.565845409Z",
     "start_time": "2023-09-06T09:29:14.723737682Z"
    }
   }
  },
  {
   "cell_type": "code",
   "execution_count": 86,
   "outputs": [],
   "source": [
    "reactions_df.to_csv(\"reactions_synthetic_train_data.csv\")"
   ],
   "metadata": {
    "collapsed": false,
    "ExecuteTime": {
     "end_time": "2023-09-06T09:29:15.747927062Z",
     "start_time": "2023-09-06T09:29:15.566885603Z"
    }
   }
  },
  {
   "cell_type": "code",
   "execution_count": 87,
   "outputs": [],
   "source": [
    "med_allergy_df.to_csv(\"meds_synthetic_train_data.csv\")\n",
    "allergy_severity_df.to_csv(\"allergy_severity_synthetic_train_data.csv\")\n",
    "substance_category_df.to_csv(\"substance_category_synthetic_train_data.csv\")\n",
    "allergy_type_df.to_csv(\"allergy_type_synthetic_train_data.csv\")"
   ],
   "metadata": {
    "collapsed": false,
    "ExecuteTime": {
     "end_time": "2023-09-06T09:29:44.357238648Z",
     "start_time": "2023-09-06T09:29:43.174494473Z"
    }
   }
  }
 ],
 "metadata": {
  "kernelspec": {
   "display_name": "Python 3 (ipykernel)",
   "language": "python",
   "name": "python3"
  },
  "language_info": {
   "codemirror_mode": {
    "name": "ipython",
    "version": 3
   },
   "file_extension": ".py",
   "mimetype": "text/x-python",
   "name": "python",
   "nbconvert_exporter": "python",
   "pygments_lexer": "ipython3",
   "version": "3.8.17"
  }
 },
 "nbformat": 4,
 "nbformat_minor": 5
}
